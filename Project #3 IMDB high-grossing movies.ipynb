{
 "cells": [
  {
   "cell_type": "markdown",
   "metadata": {},
   "source": [
    "Data set: IMDB high-grossing movies\n",
    "\n",
    "Data preview:\n",
    "\n",
    "movie_title | director_name | color | duration | actor_1_name | language | country | title_year\n",
    "---|---|---|---|---|---|---|---\n",
    "Avatar|James Cameron|Color|178|CCH Pounder|English|USA|2009"
   ]
  },
  {
   "cell_type": "code",
   "execution_count": 7,
   "metadata": {},
   "outputs": [
    {
     "name": "stdout",
     "output_type": "stream",
     "text": [
      "[['movie_title', 'director_name', 'color', 'duration', 'actor_1_name', 'language', 'country', 'title_year'], ['Avatar', 'James Cameron', 'Color', '178', 'CCH Pounder', 'English', 'USA', '2009'], [\"Pirates of the Caribbean: At World's End\", 'Gore Verbinski', 'Color', '169', 'Johnny Depp', 'English', 'USA', '2007'], ['Spectre', 'Sam Mendes', 'Color', '148', 'Christoph Waltz', 'English', 'UK', '2015'], ['The Dark Knight Rises', 'Christopher Nolan', 'Color', '164', 'Tom Hardy', 'English', 'USA', '2012']]\n"
     ]
    }
   ],
   "source": [
    "# data cleaning, keep the header this time\n",
    "movie_data = []\n",
    "f = open('movie_metadata.csv','r', encoding='utf8') #specify encoding for this file\n",
    "r = f.read()\n",
    "s = r.split('\\n')\n",
    "for i in s:\n",
    "    n = i.split(',')\n",
    "    movie_data.append(n)\n",
    "print(movie_data[:5])"
   ]
  },
  {
   "cell_type": "code",
   "execution_count": 8,
   "metadata": {},
   "outputs": [
    {
     "name": "stdout",
     "output_type": "stream",
     "text": [
      "{'Japan_movies': 22, 'color_movies': 4714, 'movies_in_english': 4611}\n"
     ]
    }
   ],
   "source": [
    "# create a dictionary that summarizes the information about Japanese movies, color movies, and English movies.\n",
    "# In order to do this, first we need to create a function that calculate the quantity of a given feature in the given column\n",
    "\n",
    "def feature_counter(maininput, index, inputstring, header_row = False):\n",
    "    if header_row == True:\n",
    "        maininput = maininput[1:]\n",
    "    count = 0\n",
    "    for i in maininput:\n",
    "        if i[index] == inputstring:\n",
    "            count += 1\n",
    "    return count\n",
    "\n",
    "def ja_co_en(maininput):\n",
    "    ja = feature_counter(movie_data,6, 'Japan', header_row=True)\n",
    "    co = feature_counter(movie_data,2, 'Color', header_row=True)\n",
    "    en = feature_counter(movie_data,5, 'English', header_row=True)\n",
    "    summary = {'Japan_movies':ja,'color_movies':co,'movies_in_english':en}\n",
    "    return summary\n",
    "\n",
    "print(ja_co_en(movie_data))\n",
    "    "
   ]
  },
  {
   "cell_type": "code",
   "execution_count": null,
   "metadata": {},
   "outputs": [],
   "source": []
  }
 ],
 "metadata": {
  "kernelspec": {
   "display_name": "Python 3",
   "language": "python",
   "name": "python3"
  },
  "language_info": {
   "codemirror_mode": {
    "name": "ipython",
    "version": 3
   },
   "file_extension": ".py",
   "mimetype": "text/x-python",
   "name": "python",
   "nbconvert_exporter": "python",
   "pygments_lexer": "ipython3",
   "version": "3.6.4"
  }
 },
 "nbformat": 4,
 "nbformat_minor": 2
}
