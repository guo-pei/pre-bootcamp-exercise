{
 "cells": [
  {
   "cell_type": "markdown",
   "metadata": {},
   "source": [
    "In this project, I will clean the data set with 1300 laptop models inforamtion. Below is a preview of the first two rows of the dataset. \n",
    "\n",
    "Manufacturer|Model Name\t|Category|Screen Size|Screen|CPU|RAM|Storage|GPU|Operating System|Operating System Version|Weight|Price (Euros)\n",
    "---|---|---|---|---|---|---|---|---|---|---|---|---\n",
    "Apple|MacBook Pro|Ultrabook|13.3\"|IPS Panel Retina Display|2560x1600 Intel Core i5 2.3GHz|8GB|128GB SSD|Intel Iris Plus Graphics 640|macOS|\t|1.37kg|1339,69\n",
    "\n",
    "__Tasks:__\n",
    "-  Clean columns names.\n",
    "-  Extract and convert numeric values from string values.\n",
    "-  Extract string data.\n",
    "-  Work with missing values.\n",
    "\n",
    "\n",
    "\n",
    "__Key knowledge:__"
   ]
  },
  {
   "cell_type": "markdown",
   "metadata": {},
   "source": [
    "df.info()\n",
    "Series.describe()\n",
    "\n",
    "df.columns\n",
    "string.strip()\n",
    "string.replace(old,new)\n",
    "string.lower()\n",
    "Series.str.replace()     # need assignment\n",
    "DF/Seiries.replace()     # to replace items, or use regex to work as str.replace\n",
    "\n",
    "Series.unique()          # get unique values: from a list: list(set(list)); from an array: \n",
    "Series.value_counts()    # unique values & counts, not include null values\n",
    "Series.nunique()         # just the number of unique values\n",
    "Series.count()           # The number of non-null values\n",
    "Series.size()            # the number of all values including null.\n",
    "pd.DataFrame.agg(['count', 'size', 'nunique']).stack()\n",
    "\n",
    "numpy.unqiue(array)  \n",
    "Series.astype(dtype)     # need assignment\n",
    "DataFrame.rename({old:new}, axis =1, inplace = True)   # need assignment\n",
    "Series.str.contains()\n",
    "Series.str.split()       # split on space from front\n",
    "Series.str.rsplit()      # split on space from the end\n",
    "Series.value_counts()\n",
    "Series.isnull()\n",
    "Series.map(dict)         # to replace values in the Series. \n",
    "                         #The dict needs to have each unique value from the Series.    \n",
    "DataFrame.dropna()\n",
    "df.to_csv('filename.csv', index=False)\n",
    "laptops = laptops[cols]   # manually change the order of the columns\n",
    "s.where(s > 1, 10)\n",
    "pandas.DataFrame.mask"
   ]
  },
  {
   "cell_type": "markdown",
   "metadata": {},
   "source": [
    "***\n",
    "__From the results below, we can see:__\n",
    "1. All the columns have type 'object' they are strings, not numbers\n",
    "2. There are 170 entries in 'Operating System Version' are null\n",
    "3. The column labels have a variety of upper and lowercase letters, as well as spaces and parentheses.<br>"
   ]
  },
  {
   "cell_type": "code",
   "execution_count": 1,
   "metadata": {
    "scrolled": false
   },
   "outputs": [
    {
     "name": "stdout",
     "output_type": "stream",
     "text": [
      "<class 'pandas.core.frame.DataFrame'>\n",
      "RangeIndex: 1303 entries, 0 to 1302\n",
      "Data columns (total 13 columns):\n",
      "Manufacturer                1303 non-null object\n",
      "Model Name                  1303 non-null object\n",
      "Category                    1303 non-null object\n",
      "Screen Size                 1303 non-null object\n",
      "Screen                      1303 non-null object\n",
      "CPU                         1303 non-null object\n",
      "RAM                         1303 non-null object\n",
      " Storage                    1303 non-null object\n",
      "GPU                         1303 non-null object\n",
      "Operating System            1303 non-null object\n",
      "Operating System Version    1133 non-null object\n",
      "Weight                      1303 non-null object\n",
      "Price (Euros)               1303 non-null object\n",
      "dtypes: object(13)\n",
      "memory usage: 132.4+ KB\n"
     ]
    },
    {
     "data": {
      "text/plain": [
       "Manufacturer                  0\n",
       "Model Name                    0\n",
       "Category                      0\n",
       "Screen Size                   0\n",
       "Screen                        0\n",
       "CPU                           0\n",
       "RAM                           0\n",
       " Storage                      0\n",
       "GPU                           0\n",
       "Operating System              0\n",
       "Operating System Version    170\n",
       "Weight                        0\n",
       "Price (Euros)                 0\n",
       "dtype: int64"
      ]
     },
     "execution_count": 1,
     "metadata": {},
     "output_type": "execute_result"
    }
   ],
   "source": [
    "import pandas as pd\n",
    "laptops = pd.read_csv('laptops.csv', encoding = 'Windows-1251')  # tried 'UTF-8' and 'Latin-1' all errors\n",
    "laptops.info()\n",
    "laptops.isnull().sum()"
   ]
  },
  {
   "cell_type": "markdown",
   "metadata": {},
   "source": [
    "***\n",
    "__Clean the column labels:__\n",
    "    1. Remove any whitespace from the start and end of the labels\n",
    "    2. Replace sapces with underscores and remove special characters\n",
    "    3. Make all labels lowercase\n",
    "    4. Shorten any long column names"
   ]
  },
  {
   "cell_type": "code",
   "execution_count": 2,
   "metadata": {},
   "outputs": [
    {
     "name": "stdout",
     "output_type": "stream",
     "text": [
      "Index(['Manufacturer', 'Model Name', 'Category', 'Screen Size', 'Screen',\n",
      "       'CPU', 'RAM', ' Storage', 'GPU', 'Operating System',\n",
      "       'Operating System Version', 'Weight', 'Price (Euros)'],\n",
      "      dtype='object')\n"
     ]
    }
   ],
   "source": [
    "print(laptops.columns)"
   ]
  },
  {
   "cell_type": "code",
   "execution_count": 2,
   "metadata": {},
   "outputs": [
    {
     "name": "stdout",
     "output_type": "stream",
     "text": [
      "Index(['manufacturer', 'model_name', 'category', 'screen_size', 'screen',\n",
      "       'cpu', 'ram', 'storage', 'gpu', 'os', 'os_version', 'weight',\n",
      "       'price_euros'],\n",
      "      dtype='object')\n"
     ]
    }
   ],
   "source": [
    "def clean_col(col_label):\n",
    "    col_label = col_label.strip()            # Removes any whitespace from the start and end of the string\n",
    "    col_label = col_label.replace('Operating System','os')      # Replaces the substring Operating System with the abbreviation os\n",
    "    col_label = col_label.replace(' ', '_')  # Replaces all spaces with underscores.\n",
    "    col_label = col_label.replace('(','')    # Removes parentheses from the string.\n",
    "    col_label = col_label.replace(')','')\n",
    "    col_label = col_label.lower()            # Makes the entire string lowercase.\n",
    "    return col_label\n",
    "\n",
    "laptops.columns = [clean_col(i) for i in laptops.columns]\n",
    "print(laptops.columns)"
   ]
  },
  {
   "cell_type": "markdown",
   "metadata": {},
   "source": [
    "***\n",
    "__Data Cleaning Workflow__\n",
    "1.  Explore the data in the column : Series.unique()\n",
    "2.  Identify patterns and special cases : convert data to float/integer\n",
    "3.  Remove the non-digit characters : Seires.str.replace()\n",
    "4.  Convert (or cast) the column to a numeric dtype : Series.astype()\n",
    "5.  Rename the column (optional) : DataFrame.rename()\n",
    "\n",
    "    __The 'ram' column__"
   ]
  },
  {
   "cell_type": "code",
   "execution_count": 4,
   "metadata": {},
   "outputs": [
    {
     "name": "stdout",
     "output_type": "stream",
     "text": [
      "['8GB' '16GB' '4GB' '2GB' '12GB' '6GB' '32GB' '24GB' '64GB']\n"
     ]
    }
   ],
   "source": [
    "# explore the data in the column\n",
    "print(laptops['ram'].unique())\n",
    "\n",
    "# Identify patterns and special cases\n",
    "# From the results below, we can see that all values are integers followed by 'GB' string. \n",
    "# There are no special cases here"
   ]
  },
  {
   "cell_type": "code",
   "execution_count": 5,
   "metadata": {},
   "outputs": [],
   "source": [
    "# Remove the non-digit characters\n",
    "laptops['ram'] = laptops['ram'].str.replace('GB','')\n",
    "# Convert (or cast) the column to a numeric dtype\n",
    "laptops['ram'] = laptops['ram'].astype(int)\n",
    "# Rename the column\n",
    "laptops.rename({'ram':'ram_gb'}, axis =1, inplace=True)\n",
    "dtypes = laptops.dtypes"
   ]
  },
  {
   "cell_type": "markdown",
   "metadata": {},
   "source": [
    "__The 'weight' column__"
   ]
  },
  {
   "cell_type": "code",
   "execution_count": 6,
   "metadata": {},
   "outputs": [
    {
     "name": "stdout",
     "output_type": "stream",
     "text": [
      "['1.37kg' '1.34kg' '1.86kg' '1.83kg' '2.1kg' '2.04kg' '1.3kg' '1.6kg'\n",
      " '2.2kg' '0.92kg' '1.22kg' '0.98kg' '2.5kg' '1.62kg' '1.91kg' '2.3kg'\n",
      " '1.35kg' '1.88kg' '1.89kg' '1.65kg' '2.71kg' '1.2kg' '1.44kg' '2.8kg'\n",
      " '2kg' '2.65kg' '2.77kg' '3.2kg' '0.69kg' '1.49kg' '2.4kg' '2.13kg'\n",
      " '2.43kg' '1.7kg' '1.4kg' '1.8kg' '1.9kg' '3kg' '1.252kg' '2.7kg' '2.02kg'\n",
      " '1.63kg' '1.96kg' '1.21kg' '2.45kg' '1.25kg' '1.5kg' '2.62kg' '1.38kg'\n",
      " '1.58kg' '1.85kg' '1.23kg' '1.26kg' '2.16kg' '2.36kg' '2.05kg' '1.32kg'\n",
      " '1.75kg' '0.97kg' '2.9kg' '2.56kg' '1.48kg' '1.74kg' '1.1kg' '1.56kg'\n",
      " '2.03kg' '1.05kg' '4.4kg' '1.90kg' '1.29kg' '2.0kg' '1.95kg' '2.06kg'\n",
      " '1.12kg' '1.42kg' '3.49kg' '3.35kg' '2.23kg' '4.42kg' '2.69kg' '2.37kg'\n",
      " '4.7kg' '3.6kg' '2.08kg' '4.3kg' '1.68kg' '1.41kg' '4.14kg' '2.18kg'\n",
      " '2.24kg' '2.67kg' '2.14kg' '1.36kg' '2.25kg' '2.15kg' '2.19kg' '2.54kg'\n",
      " '3.42kg' '1.28kg' '2.33kg' '1.45kg' '2.79kg' '1.84kg' '2.6kg' '2.26kg'\n",
      " '3.25kg' '1.59kg' '1.13kg' '1.78kg' '1.10kg' '1.15kg' '1.27kg' '1.43kg'\n",
      " '2.31kg' '1.16kg' '1.64kg' '2.17kg' '1.47kg' '3.78kg' '1.79kg' '0.91kg'\n",
      " '1.99kg' '4.33kg' '1.93kg' '1.87kg' '2.63kg' '3.4kg' '3.14kg' '1.94kg'\n",
      " '1.24kg' '4.6kg' '4.5kg' '2.73kg' '1.39kg' '2.29kg' '2.59kg' '2.94kg'\n",
      " '1.14kg' '3.8kg' '3.31kg' '1.09kg' '3.21kg' '1.19kg' '1.98kg' '1.17kg'\n",
      " '4.36kg' '1.71kg' '2.32kg' '4.2kg' '1.55kg' '0.81kg' '1.18kg' '2.72kg'\n",
      " '1.31kg' '0.920kg' '3.74kg' '1.76kg' '1.54kg' '2.83kg' '2.07kg' '2.38kg'\n",
      " '3.58kg' '1.08kg' '2.20kg' '2.75kg' '1.70kg' '2.99kg' '1.11kg' '2.09kg'\n",
      " '4kgs' '3.0kg' '0.99kg' '3.52kg' '2.591kg' '2.21kg' '3.3kg' '2.191kg'\n",
      " '2.34kg' '4.0kg']\n"
     ]
    }
   ],
   "source": [
    "print(laptops[\"weight\"].unique())"
   ]
  },
  {
   "cell_type": "code",
   "execution_count": 7,
   "metadata": {},
   "outputs": [
    {
     "name": "stdout",
     "output_type": "stream",
     "text": [
      "1061    4kgs\n",
      "Name: weight, dtype: object\n"
     ]
    }
   ],
   "source": [
    "# ran  laptops[\"weight\"] = laptops[\"weight\"].str.replace('kg','').astype(float)\n",
    "# ValueError: could not convert string to float: '4s'\n",
    "\n",
    "print(laptops.loc[laptops[\"weight\"].str.contains('s'), \"weight\"])"
   ]
  },
  {
   "cell_type": "code",
   "execution_count": 8,
   "metadata": {},
   "outputs": [
    {
     "name": "stdout",
     "output_type": "stream",
     "text": [
      "count    1303.000000\n",
      "mean        2.038734\n",
      "std         0.665475\n",
      "min         0.690000\n",
      "25%         1.500000\n",
      "50%         2.040000\n",
      "75%         2.300000\n",
      "max         4.700000\n",
      "Name: weight_kg, dtype: float64\n"
     ]
    }
   ],
   "source": [
    "laptops[\"weight\"] = laptops[\"weight\"].str.replace(\"kgs\",\"\").str.replace(\"kg\",\"\").astype(float)\n",
    "laptops.rename({'weight':'weight_kg'}, axis=1, inplace = True)\n",
    "weight_describe = laptops['weight_kg'].describe()\n",
    "print(weight_describe)"
   ]
  },
  {
   "cell_type": "markdown",
   "metadata": {},
   "source": [
    "__The 'price_euros' column__"
   ]
  },
  {
   "cell_type": "code",
   "execution_count": 9,
   "metadata": {},
   "outputs": [
    {
     "name": "stdout",
     "output_type": "stream",
     "text": [
      "['1339,69' '898,94' '575,00' '2537,45' '1803,60']\n",
      "['549,99' '805,99' '720,32' '638,00' '764,00']\n"
     ]
    }
   ],
   "source": [
    "print(laptops[\"price_euros\"].unique()[:5])\n",
    "print(laptops[\"price_euros\"].unique()[-5:])"
   ]
  },
  {
   "cell_type": "code",
   "execution_count": 4,
   "metadata": {},
   "outputs": [
    {
     "name": "stdout",
     "output_type": "stream",
     "text": [
      "count    1303.000000\n",
      "mean     1123.686992\n",
      "std       699.009043\n",
      "min       174.000000\n",
      "25%       599.000000\n",
      "50%       977.000000\n",
      "75%      1487.880000\n",
      "max      6099.000000\n",
      "Name: price_euros, dtype: float64\n"
     ]
    }
   ],
   "source": [
    "laptops[\"price_euros\"] = laptops[\"price_euros\"].str.replace(',','.').astype(float)\n",
    "price_describe = laptops[\"price_euros\"].describe()\n",
    "print(price_describe)"
   ]
  },
  {
   "cell_type": "markdown",
   "metadata": {},
   "source": [
    "__The 'cpu' column (same method for 'gpu' column)__<br> extract brand names and speed number"
   ]
  },
  {
   "cell_type": "code",
   "execution_count": 20,
   "metadata": {},
   "outputs": [
    {
     "name": "stdout",
     "output_type": "stream",
     "text": [
      "0          Intel Core i5 2.3GHz\n",
      "1          Intel Core i5 1.8GHz\n",
      "2    Intel Core i5 7200U 2.5GHz\n",
      "3          Intel Core i7 2.7GHz\n",
      "4          Intel Core i5 3.1GHz\n",
      "Name: cpu, dtype: object\n"
     ]
    }
   ],
   "source": [
    "print(laptops['cpu'].head())\n",
    "# every item is consisted of a brand name, model type, and the GHz value.\n",
    "# We want to extract the brand names to see how many laptops cpus are in each brand"
   ]
  },
  {
   "cell_type": "code",
   "execution_count": 17,
   "metadata": {},
   "outputs": [
    {
     "data": {
      "text/plain": [
       "Intel      1240\n",
       "AMD          62\n",
       "Samsung       1\n",
       "Name: cpu_manufacturer, dtype: int64"
      ]
     },
     "execution_count": 17,
     "metadata": {},
     "output_type": "execute_result"
    }
   ],
   "source": [
    "# How many laptops are there in each unique cpu brand?\n",
    "\n",
    "laptops['cpu_manufacturer'] = (laptops['cpu']\n",
    "                               .str.split(n=1,expand=True)\n",
    "                               .iloc[:,0])  \n",
    "\n",
    "laptops['cpu_manufacturer'].value_counts()\n",
    "# split the string of each row only on the first whitespace, into a Seires of list\n",
    "# expand the result into a DataFrame\n",
    "# extract the first column"
   ]
  },
  {
   "cell_type": "code",
   "execution_count": 24,
   "metadata": {},
   "outputs": [
    {
     "data": {
      "text/plain": [
       "2.50    293\n",
       "2.70    166\n",
       "2.80    165\n",
       "1.60    134\n",
       "2.00     86\n",
       "2.30     86\n",
       "1.80     78\n",
       "2.60     76\n",
       "1.10     53\n",
       "2.40     52\n",
       "2.90     21\n",
       "3.00     19\n",
       "1.20     15\n",
       "1.44     12\n",
       "2.20     11\n",
       "1.50     10\n",
       "1.30      6\n",
       "3.60      5\n",
       "0.90      4\n",
       "2.10      3\n",
       "3.10      3\n",
       "1.90      2\n",
       "1.92      1\n",
       "1.00      1\n",
       "3.20      1\n",
       "Name: cpu_speed, dtype: int64"
      ]
     },
     "execution_count": 24,
     "metadata": {},
     "output_type": "execute_result"
    }
   ],
   "source": [
    "# How many didfferent cpu speed do we have?\n",
    "\n",
    "laptops['cpu_speed'] = laptops['cpu'].str.rsplit(n=1,expand=True).iloc[:,1]\n",
    "laptops['cpu_speed'] = laptops['cpu_speed'].str.replace('GHz','').astype(float)\n",
    "laptops['cpu_speed'].value_counts(ascending = False)"
   ]
  },
  {
   "cell_type": "markdown",
   "metadata": {},
   "source": [
    "__The 'screen' column__<br>\n",
    "extract screen sizes"
   ]
  },
  {
   "cell_type": "code",
   "execution_count": 26,
   "metadata": {},
   "outputs": [
    {
     "name": "stdout",
     "output_type": "stream",
     "text": [
      "0    IPS Panel Retina Display 2560x1600\n",
      "1                              1440x900\n",
      "2                     Full HD 1920x1080\n",
      "3    IPS Panel Retina Display 2880x1800\n",
      "4    IPS Panel Retina Display 2560x1600\n",
      "5                              1366x768\n",
      "6    IPS Panel Retina Display 2880x1800\n",
      "7                              1440x900\n",
      "8                     Full HD 1920x1080\n",
      "9           IPS Panel Full HD 1920x1080\n",
      "Name: screen, dtype: object\n"
     ]
    }
   ],
   "source": [
    "print(laptops['screen'].head(10))"
   ]
  },
  {
   "cell_type": "code",
   "execution_count": 31,
   "metadata": {},
   "outputs": [
    {
     "name": "stdout",
     "output_type": "stream",
     "text": [
      "                          0          1\n",
      "0  IPS Panel Retina Display  2560x1600\n",
      "1                  1440x900       None\n",
      "2                   Full HD  1920x1080\n",
      "3  IPS Panel Retina Display  2880x1800\n",
      "4  IPS Panel Retina Display  2560x1600\n",
      "5                  1366x768       None\n",
      "6  IPS Panel Retina Display  2880x1800\n",
      "7                  1440x900       None\n",
      "8                   Full HD  1920x1080\n",
      "9         IPS Panel Full HD  1920x1080\n"
     ]
    }
   ],
   "source": [
    "screen_res = laptops['screen'].str.rsplit(n=1, expand = True)\n",
    "print(screen_res.iloc[:10])"
   ]
  },
  {
   "cell_type": "code",
   "execution_count": 33,
   "metadata": {},
   "outputs": [
    {
     "name": "stdout",
     "output_type": "stream",
     "text": [
      "                          A          B\n",
      "0  IPS Panel Retina Display  2560x1600\n",
      "1                  1440x900   1440x900\n",
      "2                   Full HD  1920x1080\n",
      "3  IPS Panel Retina Display  2880x1800\n",
      "4  IPS Panel Retina Display  2560x1600\n",
      "5                  1366x768   1366x768\n",
      "6  IPS Panel Retina Display  2880x1800\n",
      "7                  1440x900   1440x900\n",
      "8                   Full HD  1920x1080\n",
      "9         IPS Panel Full HD  1920x1080\n"
     ]
    }
   ],
   "source": [
    "screen_res.columns = ['A','B']\n",
    "screen_res.loc[screen_res['B'].isnull(), 'B'] =  screen_res.loc[screen_res['B'].isnull(), 'A'] \n",
    "print(screen_res.iloc[:10])\n",
    "\n",
    "laptops['screen_res'] = screen_res['B']"
   ]
  },
  {
   "cell_type": "markdown",
   "metadata": {},
   "source": [
    "__The 'os' column__<br> inconsistent values"
   ]
  },
  {
   "cell_type": "code",
   "execution_count": 34,
   "metadata": {},
   "outputs": [
    {
     "name": "stdout",
     "output_type": "stream",
     "text": [
      "['macOS' 'No OS' 'Windows' 'Mac OS' 'Linux' 'Android' 'Chrome OS']\n"
     ]
    }
   ],
   "source": [
    "print(laptops['os'].unique())"
   ]
  },
  {
   "cell_type": "code",
   "execution_count": 39,
   "metadata": {},
   "outputs": [],
   "source": [
    "laptops['os'] = laptops['os'].replace('Mac OS', 'macOS')   # replace certain values in a Series"
   ]
  },
  {
   "cell_type": "code",
   "execution_count": 38,
   "metadata": {},
   "outputs": [
    {
     "name": "stdout",
     "output_type": "stream",
     "text": [
      "['macOS' 'No OS' 'Windows' 'Linux' 'Android' 'Chrome OS']\n"
     ]
    }
   ],
   "source": [
    "print(laptops['os'].unique())"
   ]
  },
  {
   "cell_type": "markdown",
   "metadata": {},
   "source": [
    "Solution using Seires.map()\n",
    "\n",
    "mapping_dict = {\n",
    "    'Android': 'Android',\n",
    "    'Chrome OS': 'Chrome OS',\n",
    "    'Linux': 'Linux',\n",
    "    'Mac OS': 'macOS',\n",
    "    'No OS': 'No OS',\n",
    "    'Windows': 'Windows',\n",
    "    'macOS': 'macOS'\n",
    "}\n",
    "\n",
    "laptops['os'] = laptops['os'].map(mapping_dict)"
   ]
  },
  {
   "cell_type": "markdown",
   "metadata": {},
   "source": [
    "__Identify Missing Values__<br>\n",
    "-  DataFrame.info()<br>\n",
    "    _There are two downsides to this approach - firstly the information is printed, so we can't easily work with it, and secondly looking at the number of non-null values can be harder to understand than looking at the number of null values._\n",
    "-  DataFrame.isnull().sum()\n",
    "\n",
    "__Handle Missing Values__<br>\n",
    "-  Remove any rows that have missing values.\n",
    "-  Remove any columns that have missing values.\n",
    "-  Fill the missing values with some other value.\n",
    "-  Leave the missing values as is.\n",
    "\n",
    "    _The first two options, is often used when preparing data for machine learning, as machine learning algorithms are unable to be trained on data that includes null values. \n",
    "    The methods is the DataFrame.dropna(). Removing columns and rows is commonly known as dropping._"
   ]
  },
  {
   "cell_type": "code",
   "execution_count": null,
   "metadata": {},
   "outputs": [],
   "source": [
    "# df.dropna() to remove rows or columns\n",
    "laptops_no_null_rows = laptops.dropna()\n",
    "laptops_no_null_cols = laptops.dropna(axis =1)"
   ]
  },
  {
   "cell_type": "code",
   "execution_count": null,
   "metadata": {},
   "outputs": [],
   "source": [
    "laptops.loc[laptops[\"os\"] == \"No OS\", \"os_version\"] = \"Version Unknown\"\n",
    "value_counts_after = laptops.loc[laptops[\"os_version\"].isnull(), \"os\"].value_counts()"
   ]
  },
  {
   "cell_type": "markdown",
   "metadata": {},
   "source": [
    "__The Storage Column__"
   ]
  },
  {
   "cell_type": "code",
   "execution_count": 3,
   "metadata": {
    "scrolled": true
   },
   "outputs": [
    {
     "name": "stdout",
     "output_type": "stream",
     "text": [
      "76                 2TB HDD\n",
      "77    128GB SSD +  1TB HDD\n",
      "78                 1TB HDD\n",
      "79    128GB SSD +  1TB HDD\n",
      "80               256GB SSD\n",
      "81               512GB SSD\n",
      "Name: storage, dtype: object\n"
     ]
    }
   ],
   "source": [
    "print(laptops.loc[76:81, 'storage'])\n",
    "\n",
    "# From this sample, we can observe:\n",
    "# Some laptops have two disks and some just have one.\n",
    "# Each disk has a capacity (eg 128GB) and a type (eg SSD).\n",
    "# Capacities are expressed in either gigabytes (GB) or terabytes (TB)."
   ]
  },
  {
   "cell_type": "code",
   "execution_count": 3,
   "metadata": {},
   "outputs": [
    {
     "ename": "ValueError",
     "evalue": "labels ['storage' 'storage1' 'storage2'] not contained in axis",
     "output_type": "error",
     "traceback": [
      "\u001b[1;31m---------------------------------------------------------------------------\u001b[0m",
      "\u001b[1;31mValueError\u001b[0m                                Traceback (most recent call last)",
      "\u001b[1;32m<ipython-input-3-c32a379ec868>\u001b[0m in \u001b[0;36m<module>\u001b[1;34m()\u001b[0m\n\u001b[0;32m     12\u001b[0m     \u001b[0mlaptops\u001b[0m\u001b[1;33m[\u001b[0m\u001b[0ms_type\u001b[0m\u001b[1;33m]\u001b[0m \u001b[1;33m=\u001b[0m \u001b[0mlaptops\u001b[0m\u001b[1;33m[\u001b[0m\u001b[0ms_type\u001b[0m\u001b[1;33m]\u001b[0m\u001b[1;33m.\u001b[0m\u001b[0mstr\u001b[0m\u001b[1;33m.\u001b[0m\u001b[0mstrip\u001b[0m\u001b[1;33m(\u001b[0m\u001b[1;33m)\u001b[0m\u001b[1;33m\u001b[0m\u001b[0m\n\u001b[0;32m     13\u001b[0m \u001b[1;33m\u001b[0m\u001b[0m\n\u001b[1;32m---> 14\u001b[1;33m \u001b[0mlaptops\u001b[0m\u001b[1;33m.\u001b[0m\u001b[0mdrop\u001b[0m\u001b[1;33m(\u001b[0m\u001b[1;33m[\u001b[0m\u001b[1;34m'storage'\u001b[0m\u001b[1;33m,\u001b[0m\u001b[1;34m'storage1'\u001b[0m\u001b[1;33m,\u001b[0m\u001b[1;34m'storage2'\u001b[0m\u001b[1;33m]\u001b[0m\u001b[1;33m,\u001b[0m \u001b[0minplace\u001b[0m \u001b[1;33m=\u001b[0m \u001b[1;32mTrue\u001b[0m\u001b[1;33m)\u001b[0m\u001b[1;33m\u001b[0m\u001b[0m\n\u001b[0m",
      "\u001b[1;32m~\\Anaconda3\\lib\\site-packages\\pandas\\core\\generic.py\u001b[0m in \u001b[0;36mdrop\u001b[1;34m(self, labels, axis, index, columns, level, inplace, errors)\u001b[0m\n\u001b[0;32m   2528\u001b[0m         \u001b[1;32mfor\u001b[0m \u001b[0maxis\u001b[0m\u001b[1;33m,\u001b[0m \u001b[0mlabels\u001b[0m \u001b[1;32min\u001b[0m \u001b[0maxes\u001b[0m\u001b[1;33m.\u001b[0m\u001b[0mitems\u001b[0m\u001b[1;33m(\u001b[0m\u001b[1;33m)\u001b[0m\u001b[1;33m:\u001b[0m\u001b[1;33m\u001b[0m\u001b[0m\n\u001b[0;32m   2529\u001b[0m             \u001b[1;32mif\u001b[0m \u001b[0mlabels\u001b[0m \u001b[1;32mis\u001b[0m \u001b[1;32mnot\u001b[0m \u001b[1;32mNone\u001b[0m\u001b[1;33m:\u001b[0m\u001b[1;33m\u001b[0m\u001b[0m\n\u001b[1;32m-> 2530\u001b[1;33m                 \u001b[0mobj\u001b[0m \u001b[1;33m=\u001b[0m \u001b[0mobj\u001b[0m\u001b[1;33m.\u001b[0m\u001b[0m_drop_axis\u001b[0m\u001b[1;33m(\u001b[0m\u001b[0mlabels\u001b[0m\u001b[1;33m,\u001b[0m \u001b[0maxis\u001b[0m\u001b[1;33m,\u001b[0m \u001b[0mlevel\u001b[0m\u001b[1;33m=\u001b[0m\u001b[0mlevel\u001b[0m\u001b[1;33m,\u001b[0m \u001b[0merrors\u001b[0m\u001b[1;33m=\u001b[0m\u001b[0merrors\u001b[0m\u001b[1;33m)\u001b[0m\u001b[1;33m\u001b[0m\u001b[0m\n\u001b[0m\u001b[0;32m   2531\u001b[0m \u001b[1;33m\u001b[0m\u001b[0m\n\u001b[0;32m   2532\u001b[0m         \u001b[1;32mif\u001b[0m \u001b[0minplace\u001b[0m\u001b[1;33m:\u001b[0m\u001b[1;33m\u001b[0m\u001b[0m\n",
      "\u001b[1;32m~\\Anaconda3\\lib\\site-packages\\pandas\\core\\generic.py\u001b[0m in \u001b[0;36m_drop_axis\u001b[1;34m(self, labels, axis, level, errors)\u001b[0m\n\u001b[0;32m   2560\u001b[0m                 \u001b[0mnew_axis\u001b[0m \u001b[1;33m=\u001b[0m \u001b[0maxis\u001b[0m\u001b[1;33m.\u001b[0m\u001b[0mdrop\u001b[0m\u001b[1;33m(\u001b[0m\u001b[0mlabels\u001b[0m\u001b[1;33m,\u001b[0m \u001b[0mlevel\u001b[0m\u001b[1;33m=\u001b[0m\u001b[0mlevel\u001b[0m\u001b[1;33m,\u001b[0m \u001b[0merrors\u001b[0m\u001b[1;33m=\u001b[0m\u001b[0merrors\u001b[0m\u001b[1;33m)\u001b[0m\u001b[1;33m\u001b[0m\u001b[0m\n\u001b[0;32m   2561\u001b[0m             \u001b[1;32melse\u001b[0m\u001b[1;33m:\u001b[0m\u001b[1;33m\u001b[0m\u001b[0m\n\u001b[1;32m-> 2562\u001b[1;33m                 \u001b[0mnew_axis\u001b[0m \u001b[1;33m=\u001b[0m \u001b[0maxis\u001b[0m\u001b[1;33m.\u001b[0m\u001b[0mdrop\u001b[0m\u001b[1;33m(\u001b[0m\u001b[0mlabels\u001b[0m\u001b[1;33m,\u001b[0m \u001b[0merrors\u001b[0m\u001b[1;33m=\u001b[0m\u001b[0merrors\u001b[0m\u001b[1;33m)\u001b[0m\u001b[1;33m\u001b[0m\u001b[0m\n\u001b[0m\u001b[0;32m   2563\u001b[0m             \u001b[0mdropped\u001b[0m \u001b[1;33m=\u001b[0m \u001b[0mself\u001b[0m\u001b[1;33m.\u001b[0m\u001b[0mreindex\u001b[0m\u001b[1;33m(\u001b[0m\u001b[1;33m**\u001b[0m\u001b[1;33m{\u001b[0m\u001b[0maxis_name\u001b[0m\u001b[1;33m:\u001b[0m \u001b[0mnew_axis\u001b[0m\u001b[1;33m}\u001b[0m\u001b[1;33m)\u001b[0m\u001b[1;33m\u001b[0m\u001b[0m\n\u001b[0;32m   2564\u001b[0m             \u001b[1;32mtry\u001b[0m\u001b[1;33m:\u001b[0m\u001b[1;33m\u001b[0m\u001b[0m\n",
      "\u001b[1;32m~\\Anaconda3\\lib\\site-packages\\pandas\\core\\indexes\\base.py\u001b[0m in \u001b[0;36mdrop\u001b[1;34m(self, labels, errors)\u001b[0m\n\u001b[0;32m   3742\u001b[0m             \u001b[1;32mif\u001b[0m \u001b[0merrors\u001b[0m \u001b[1;33m!=\u001b[0m \u001b[1;34m'ignore'\u001b[0m\u001b[1;33m:\u001b[0m\u001b[1;33m\u001b[0m\u001b[0m\n\u001b[0;32m   3743\u001b[0m                 raise ValueError('labels %s not contained in axis' %\n\u001b[1;32m-> 3744\u001b[1;33m                                  labels[mask])\n\u001b[0m\u001b[0;32m   3745\u001b[0m             \u001b[0mindexer\u001b[0m \u001b[1;33m=\u001b[0m \u001b[0mindexer\u001b[0m\u001b[1;33m[\u001b[0m\u001b[1;33m~\u001b[0m\u001b[0mmask\u001b[0m\u001b[1;33m]\u001b[0m\u001b[1;33m\u001b[0m\u001b[0m\n\u001b[0;32m   3746\u001b[0m         \u001b[1;32mreturn\u001b[0m \u001b[0mself\u001b[0m\u001b[1;33m.\u001b[0m\u001b[0mdelete\u001b[0m\u001b[1;33m(\u001b[0m\u001b[0mindexer\u001b[0m\u001b[1;33m)\u001b[0m\u001b[1;33m\u001b[0m\u001b[0m\n",
      "\u001b[1;31mValueError\u001b[0m: labels ['storage' 'storage1' 'storage2'] not contained in axis"
     ]
    }
   ],
   "source": [
    "laptops[\"storage\"] = laptops[\"storage\"].str.replace('GB','').str.replace('TB','000')\n",
    "laptops[[\"storage1\", \"storage2\"]] = laptops[\"storage\"].str.split(\"+\", expand=True)\n",
    "\n",
    "for i in ['storage1','storage2']:\n",
    "    s_capacity = i + '_capacity'\n",
    "    s_type = i + '_type'\n",
    "    laptops[[s_capacity,s_type]] = laptops[i].str.split(n=1, expand = True)   # n=1 is needed because there might be empty sapce after storage type.\n",
    "    laptops[s_capacity] = laptops[s_capacity].astype(float)\n",
    "    laptops[s_type] = laptops[s_type].str.strip()\n",
    "\n",
    "laptops.drop(['storage','storage1','storage2'], inplace = True)\n"
   ]
  },
  {
   "cell_type": "markdown",
   "metadata": {},
   "source": [
    "__Save the cleaned data__"
   ]
  },
  {
   "cell_type": "code",
   "execution_count": 5,
   "metadata": {},
   "outputs": [],
   "source": [
    "laptops.to_csv('laptops_cleaned.csv',index=False)\n",
    "laptops_cleaned = pd.read_csv('laptops_cleaned.csv')\n",
    "laptops_cleaned_dtypes = laptops_cleaned.dtypes"
   ]
  },
  {
   "cell_type": "code",
   "execution_count": 15,
   "metadata": {},
   "outputs": [
    {
     "name": "stdout",
     "output_type": "stream",
     "text": [
      "nan\n"
     ]
    }
   ],
   "source": [
    "x=np.nan\n",
    "print(float(x))"
   ]
  },
  {
   "cell_type": "markdown",
   "metadata": {},
   "source": [
    "# Data analysis\n",
    "\n",
    "-  Are laptops made by Apple more expensive than those by other manufacturers?\n",
    "-  What is the best value laptop with a screen size of 15\" or more?\n",
    "-  Which laptop has the most storage space?"
   ]
  },
  {
   "cell_type": "code",
   "execution_count": 23,
   "metadata": {},
   "outputs": [
    {
     "name": "stdout",
     "output_type": "stream",
     "text": [
      "199.0\n",
      "    manufacturer            model_name  category  screen_size    screen  \\\n",
      "290         Acer  Chromebook C910-C2ST  Notebook         15.6  1366x768   \n",
      "\n",
      "                                      cpu  ram   storage                gpu  \\\n",
      "290  Intel Celeron Dual Core 3205U 1.5GHz  2GB  16GB SSD  Intel HD Graphics   \n",
      "\n",
      "            os os_version  weight  price_euros  \n",
      "290  Chrome OS        NaN  2.19kg        199.0  \n"
     ]
    }
   ],
   "source": [
    "#  What is the best value laptop with a screen size of 15\" or more?\n",
    "\n",
    "#laptops['screen_size'] = laptops['screen_size'].str.replace('\"','').astype(float)\n",
    "ff_eu = laptops.loc[laptops['screen_size']>15.0, 'price_euros']\n",
    "print(ff_eu.min())\n",
    "print(laptops.loc[(laptops['price_euros']==199.0) & (laptops['screen_size']>15.0)])"
   ]
  },
  {
   "cell_type": "code",
   "execution_count": 27,
   "metadata": {},
   "outputs": [
    {
     "name": "stdout",
     "output_type": "stream",
     "text": [
      "{'Apple': 1564, 'HP': 1068, 'Acer': 627, 'Asus': 1104, 'Dell': 1186, 'Lenovo': 1086, 'Chuwi': 314, 'MSI': 1729, 'Microsoft': 1612, 'Toshiba': 1268, 'Huawei': 1424, 'Xiaomi': 1133, 'Vero': 217, 'Razer': 3346, 'Mediacom': 295, 'Samsung': 1413, 'Google': 1678, 'Fujitsu': 729, 'LG': 2099}\n"
     ]
    }
   ],
   "source": [
    "# Are laptops made by Apple more expensive than those by other manufacturers?\n",
    "\n",
    "brand_aveprice = {}\n",
    "for i in laptops['manufacturer'].unique():\n",
    "    ave = laptops.loc[laptops['manufacturer']==i, 'price_euros'].mean()\n",
    "    brand_aveprice[i] = round(ave)\n",
    "\n",
    "print(brand_aveprice)"
   ]
  },
  {
   "cell_type": "code",
   "execution_count": 30,
   "metadata": {},
   "outputs": [
    {
     "name": "stdout",
     "output_type": "stream",
     "text": [
      "4000.0\n",
      "     manufacturer                                 model_name  \\\n",
      "76         Lenovo                         IdeaPad 320-15IKBN   \n",
      "171            HP        17-bs001nv (i5-7200U/6GB/2TB/Radeon   \n",
      "279        Lenovo                         IdeaPad 320-17IKBR   \n",
      "303        Lenovo                         IdeaPad 320-15IKBN   \n",
      "341        Lenovo                          IdeaPad 320-15ABR   \n",
      "358          Dell                              Inspiron 3567   \n",
      "365            HP             15-AY023na (N3710/8GB/2TB/W10)   \n",
      "467          Dell                              Inspiron 5570   \n",
      "527        Lenovo                          IdeaPad 320-15ISK   \n",
      "571            HP             14-am079na (N3710/8GB/2TB/W10)   \n",
      "688            HP        17-Y002nv (A10-9600P/6GB/2TB/Radeon   \n",
      "709            HP       17-ak002nv (A10-9620P/6GB/2TB/Radeon   \n",
      "775          Asus  Q524UQ-BHI7T15 (i7-7500U/12GB/2TB/GeForce   \n",
      "807            HP         15-ba043na (A12-9700P/8GB/2TB/W10)   \n",
      "1063         Dell                              Inspiron 5567   \n",
      "1130           HP          15-bs078cl (i7-7500U/8GB/2TB/W10)   \n",
      "\n",
      "                category  screen_size                           screen  \\\n",
      "76              Notebook         15.6                Full HD 1920x1080   \n",
      "171             Notebook         17.3      IPS Panel Full HD 1920x1080   \n",
      "279             Notebook         17.3                Full HD 1920x1080   \n",
      "303             Notebook         15.6                         1366x768   \n",
      "341             Notebook         15.6                Full HD 1920x1080   \n",
      "358             Notebook         15.6             Touchscreen 1366x768   \n",
      "365             Notebook         15.6                         1366x768   \n",
      "467             Notebook         15.6                Full HD 1920x1080   \n",
      "527             Notebook         15.6                         1366x768   \n",
      "571             Notebook         14.0                         1366x768   \n",
      "688             Notebook         17.3      IPS Panel Full HD 1920x1080   \n",
      "709             Notebook         17.3      IPS Panel Full HD 1920x1080   \n",
      "775   2 in 1 Convertible         15.6  Full HD / Touchscreen 1920x1080   \n",
      "807             Notebook         15.6                         1366x768   \n",
      "1063            Notebook         15.6                Full HD 1920x1080   \n",
      "1130            Notebook         15.6                         1366x768   \n",
      "\n",
      "                                       cpu   ram   storage  \\\n",
      "76              Intel Core i5 7200U 2.5GHz   8GB  2000 HDD   \n",
      "171             Intel Core i5 7200U 2.5GHz   6GB  2000 HDD   \n",
      "279             Intel Core i7 8550U 1.8GHz   8GB  2000 HDD   \n",
      "303             Intel Core i5 7200U 2.5GHz   8GB  2000 HDD   \n",
      "341            AMD A12-Series 9720P 3.6GHz  12GB  2000 HDD   \n",
      "358             Intel Core i5 7200U 2.5GHz   8GB  2000 HDD   \n",
      "365   Intel Pentium Quad Core N3710 1.6GHz   8GB  2000 HDD   \n",
      "467             Intel Core i5 8250U 1.6GHz   8GB  2000 HDD   \n",
      "527               Intel Core i3 6006U 2GHz   8GB  2000 HDD   \n",
      "571   Intel Pentium Quad Core N3710 1.6GHz   8GB  2000 HDD   \n",
      "688            AMD A10-Series 9600P 2.4GHz   6GB  2000 HDD   \n",
      "709            AMD A10-Series 9620P 2.5GHz   6GB  2000 HDD   \n",
      "775             Intel Core i7 7500U 2.7GHz  12GB  2000 HDD   \n",
      "807            AMD A12-Series 9700P 2.5GHz   8GB  2000 HDD   \n",
      "1063            Intel Core i7 7500U 2.7GHz  16GB  2000 HDD   \n",
      "1130            Intel Core i7 7500U 2.7GHz   8GB  2000 HDD   \n",
      "\n",
      "                         gpu       os os_version  weight  price_euros  \\\n",
      "76     Intel HD Graphics 620    No OS        NaN   2.2kg       519.00   \n",
      "171           AMD Radeon 520  Windows         10  2.71kg       699.00   \n",
      "279     Nvidia GeForce MX150    No OS        NaN   2.8kg       849.00   \n",
      "303     Nvidia GeForce 940MX    No OS        NaN   2.2kg       549.00   \n",
      "341           AMD Radeon 530  Windows         10   2.2kg       899.00   \n",
      "358    Intel HD Graphics 620  Windows         10  2.36kg       557.37   \n",
      "365    Intel HD Graphics 405  Windows         10  2.04kg       389.00   \n",
      "467           AMD Radeon 530  Windows         10  2.02kg       759.00   \n",
      "527    Nvidia GeForce 920MX     No OS        NaN   2.2kg       459.00   \n",
      "571    Intel HD Graphics 405  Windows         10  1.94kg       389.00   \n",
      "688       AMD Radeon R7 M440  Windows         10  2.65kg       569.00   \n",
      "709           AMD Radeon 530  Windows         10  2.71kg       655.01   \n",
      "775     Nvidia GeForce 940MX  Windows         10   2.3kg       839.00   \n",
      "807   AMD Radeon R7 Graphics  Windows         10  2.04kg       629.00   \n",
      "1063      AMD Radeon R7 M445  Windows         10  2.32kg       989.99   \n",
      "1130   Intel HD Graphics 620  Windows         10  2.04kg       629.00   \n",
      "\n",
      "      storage1 storage2  storage1_capacity storage1_type  storage2_capacity  \\\n",
      "76    2000 HDD     None             2000.0           HDD                NaN   \n",
      "171   2000 HDD     None             2000.0           HDD                NaN   \n",
      "279   2000 HDD     None             2000.0           HDD                NaN   \n",
      "303   2000 HDD     None             2000.0           HDD                NaN   \n",
      "341   2000 HDD     None             2000.0           HDD                NaN   \n",
      "358   2000 HDD     None             2000.0           HDD                NaN   \n",
      "365   2000 HDD     None             2000.0           HDD                NaN   \n",
      "467   2000 HDD     None             2000.0           HDD                NaN   \n",
      "527   2000 HDD     None             2000.0           HDD                NaN   \n",
      "571   2000 HDD     None             2000.0           HDD                NaN   \n",
      "688   2000 HDD     None             2000.0           HDD                NaN   \n",
      "709   2000 HDD     None             2000.0           HDD                NaN   \n",
      "775   2000 HDD     None             2000.0           HDD                NaN   \n",
      "807   2000 HDD     None             2000.0           HDD                NaN   \n",
      "1063  2000 HDD     None             2000.0           HDD                NaN   \n",
      "1130  2000 HDD     None             2000.0           HDD                NaN   \n",
      "\n",
      "     storage2_type  \n",
      "76            None  \n",
      "171           None  \n",
      "279           None  \n",
      "303           None  \n",
      "341           None  \n",
      "358           None  \n",
      "365           None  \n",
      "467           None  \n",
      "527           None  \n",
      "571           None  \n",
      "688           None  \n",
      "709           None  \n",
      "775           None  \n",
      "807           None  \n",
      "1063          None  \n",
      "1130          None  \n"
     ]
    }
   ],
   "source": [
    "# Which laptop has the most storage space?\n",
    "\n",
    "total_capacity = laptops['storage1_capacity']+laptops['storage1_capacity']\n",
    "print(total_capacity.max())\n",
    "most_storage = laptops.loc[total_capacity==4000.0]\n",
    "print(most_storage)"
   ]
  },
  {
   "cell_type": "code",
   "execution_count": null,
   "metadata": {},
   "outputs": [],
   "source": []
  }
 ],
 "metadata": {
  "kernelspec": {
   "display_name": "Python 3",
   "language": "python",
   "name": "python3"
  },
  "language_info": {
   "codemirror_mode": {
    "name": "ipython",
    "version": 3
   },
   "file_extension": ".py",
   "mimetype": "text/x-python",
   "name": "python",
   "nbconvert_exporter": "python",
   "pygments_lexer": "ipython3",
   "version": "3.6.4"
  }
 },
 "nbformat": 4,
 "nbformat_minor": 2
}
