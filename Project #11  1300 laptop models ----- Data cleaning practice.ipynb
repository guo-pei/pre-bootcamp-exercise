{
 "cells": [
  {
   "cell_type": "markdown",
   "metadata": {},
   "source": [
    "In this project, I will clean the data set with 1300 laptop models inforamtion. Below is a preview of the first two rows of the dataset. \n",
    "\n",
    "Manufacturer|Model Name\t|Category|Screen Size|Screen|CPU|RAM|Storage|GPU|Operating System|Operating System Version|Weight|Price (Euros)\n",
    "---|---|---|---|---|---|---|---|---|---|---|---|---\n",
    "Apple|MacBook Pro|Ultrabook|13.3\"|IPS Panel Retina Display|2560x1600 Intel Core i5 2.3GHz|8GB|128GB SSD|Intel Iris Plus Graphics 640|macOS|\t|1.37kg|1339,69\n",
    "\n",
    "__Tasks:__\n",
    "-  Clean columns names.\n",
    "-  Extract and convert numeric values from string values.\n",
    "-  Extract string data.\n",
    "-  Work with missing values.\n",
    "\n",
    "\n",
    "\n",
    "__Key knowledge:__"
   ]
  },
  {
   "cell_type": "markdown",
   "metadata": {},
   "source": [
    "df.info()\n",
    "Series.describe()\n",
    "\n",
    "df.columns\n",
    "string.strip()\n",
    "string.replace(old,new)\n",
    "string.lower()\n",
    "Series.str.replace()     # need assignment\n",
    "DF/Seiries.replace()     # to replace items, or use regex to work as str.replace\n",
    "\n",
    "Series.unique()          # get unique values: from a list: list(set(list)); from an array: \n",
    "Series.value_counts()    # unique values & counts, not include null values\n",
    "Series.nunique()         # just the number of unique values\n",
    "Series.count()           # The number of non-null values\n",
    "Series.size()            # the number of all values including null.\n",
    "pd.DataFrame.agg(['count', 'size', 'nunique']).stack()\n",
    "\n",
    "numpy.unqiue(array)  \n",
    "Series.astype(dtype)     # need assignment\n",
    "DataFrame.rename({old:new}, axis =1, inplace = True)   # need assignment\n",
    "Series.str.contains()\n",
    "Series.str.split()       # split on space from front\n",
    "Series.str.rsplit()      # split on space from the end\n",
    "Series.value_counts()\n",
    "Series.isnull()\n",
    "Series.map(dict)         # to replace values in the Series. \n",
    "                         #The dict needs to have each unique value from the Series.    \n",
    "DataFrame.dropna()\n",
    "df.to_csv('filename.csv', index=False)\n",
    "laptops = laptops[cols]   # manually change the order of the columns\n",
    "s.where(s > 1, 10)\n",
    "pandas.DataFrame.mask"
   ]
  },
  {
   "cell_type": "markdown",
   "metadata": {},
   "source": [
    "***\n",
    "__From the results below, we can see:__\n",
    "1. All the columns have type 'object' they are strings, not numbers\n",
    "2. There are 170 entries in 'Operating System Version' are null\n",
    "3. The column labels have a variety of upper and lowercase letters, as well as spaces and parentheses.<br>"
   ]
  },
  {
   "cell_type": "code",
   "execution_count": 1,
   "metadata": {
    "scrolled": false
   },
   "outputs": [
    {
     "name": "stdout",
     "output_type": "stream",
     "text": [
      "<class 'pandas.core.frame.DataFrame'>\n",
      "RangeIndex: 1303 entries, 0 to 1302\n",
      "Data columns (total 13 columns):\n",
      "Manufacturer                1303 non-null object\n",
      "Model Name                  1303 non-null object\n",
      "Category                    1303 non-null object\n",
      "Screen Size                 1303 non-null object\n",
      "Screen                      1303 non-null object\n",
      "CPU                         1303 non-null object\n",
      "RAM                         1303 non-null object\n",
      " Storage                    1303 non-null object\n",
      "GPU                         1303 non-null object\n",
      "Operating System            1303 non-null object\n",
      "Operating System Version    1133 non-null object\n",
      "Weight                      1303 non-null object\n",
      "Price (Euros)               1303 non-null object\n",
      "dtypes: object(13)\n",
      "memory usage: 132.4+ KB\n"
     ]
    },
    {
     "data": {
      "text/plain": [
       "Manufacturer                  0\n",
       "Model Name                    0\n",
       "Category                      0\n",
       "Screen Size                   0\n",
       "Screen                        0\n",
       "CPU                           0\n",
       "RAM                           0\n",
       " Storage                      0\n",
       "GPU                           0\n",
       "Operating System              0\n",
       "Operating System Version    170\n",
       "Weight                        0\n",
       "Price (Euros)                 0\n",
       "dtype: int64"
      ]
     },
     "execution_count": 1,
     "metadata": {},
     "output_type": "execute_result"
    }
   ],
   "source": [
    "import pandas as pd\n",
    "laptops = pd.read_csv('laptops.csv', encoding = 'Windows-1251')  # tried 'UTF-8' and 'Latin-1' all errors\n",
    "laptops.info()\n",
    "laptops.isnull().sum()"
   ]
  },
  {
   "cell_type": "markdown",
   "metadata": {},
   "source": [
    "***\n",
    "__Clean the column labels:__\n",
    "    1. Remove any whitespace from the start and end of the labels\n",
    "    2. Replace sapces with underscores and remove special characters\n",
    "    3. Make all labels lowercase\n",
    "    4. Shorten any long column names"
   ]
  },
  {
   "cell_type": "code",
   "execution_count": 2,
   "metadata": {},
   "outputs": [
    {
     "name": "stdout",
     "output_type": "stream",
     "text": [
      "Index(['Manufacturer', 'Model Name', 'Category', 'Screen Size', 'Screen',\n",
      "       'CPU', 'RAM', ' Storage', 'GPU', 'Operating System',\n",
      "       'Operating System Version', 'Weight', 'Price (Euros)'],\n",
      "      dtype='object')\n"
     ]
    }
   ],
   "source": [
    "print(laptops.columns)"
   ]
  },
  {
   "cell_type": "code",
   "execution_count": 2,
   "metadata": {},
   "outputs": [
    {
     "name": "stdout",
     "output_type": "stream",
     "text": [
      "Index(['manufacturer', 'model_name', 'category', 'screen_size', 'screen',\n",
      "       'cpu', 'ram', 'storage', 'gpu', 'os', 'os_version', 'weight',\n",
      "       'price_euros'],\n",
      "      dtype='object')\n"
     ]
    }
   ],
   "source": [
    "def clean_col(col_label):\n",
    "    col_label = col_label.strip()            # Removes any whitespace from the start and end of the string\n",
    "    col_label = col_label.replace('Operating System','os')      # Replaces the substring Operating System with the abbreviation os\n",
    "    col_label = col_label.replace(' ', '_')  # Replaces all spaces with underscores.\n",
    "    col_label = col_label.replace('(','')    # Removes parentheses from the string.\n",
    "    col_label = col_label.replace(')','')\n",
    "    col_label = col_label.lower()            # Makes the entire string lowercase.\n",
    "    return col_label\n",
    "\n",
    "laptops.columns = [clean_col(i) for i in laptops.columns]\n",
    "print(laptops.columns)"
   ]
  },
  {
   "cell_type": "markdown",
   "metadata": {},
   "source": [
    "***\n",
    "__Data Cleaning Workflow__\n",
    "1.  Explore the data in the column : Series.unique()\n",
    "2.  Identify patterns and special cases : convert data to float/integer\n",
    "3.  Remove the non-digit characters : Seires.str.replace()\n",
    "4.  Convert (or cast) the column to a numeric dtype : Series.astype()\n",
    "5.  Rename the column (optional) : DataFrame.rename()\n",
    "\n",
    "    __The 'ram' column__"
   ]
  },
  {
   "cell_type": "code",
   "execution_count": 4,
   "metadata": {},
   "outputs": [
    {
     "name": "stdout",
     "output_type": "stream",
     "text": [
      "['8GB' '16GB' '4GB' '2GB' '12GB' '6GB' '32GB' '24GB' '64GB']\n"
     ]
    }
   ],
   "source": [
    "# explore the data in the column\n",
    "print(laptops['ram'].unique())\n",
    "\n",
    "# Identify patterns and special cases\n",
    "# From the results below, we can see that all values are integers followed by 'GB' string. \n",
    "# There are no special cases here"
   ]
  },
  {
   "cell_type": "code",
   "execution_count": 5,
   "metadata": {},
   "outputs": [],
   "source": [
    "# Remove the non-digit characters\n",
    "laptops['ram'] = laptops['ram'].str.replace('GB','')\n",
    "# Convert (or cast) the column to a numeric dtype\n",
    "laptops['ram'] = laptops['ram'].astype(int)\n",
    "# Rename the column\n",
    "laptops.rename({'ram':'ram_gb'}, axis =1, inplace=True)\n",
    "dtypes = laptops.dtypes"
   ]
  },
  {
   "cell_type": "markdown",
   "metadata": {},
   "source": [
    "__The 'weight' column__"
   ]
  },
  {
   "cell_type": "code",
   "execution_count": 6,
   "metadata": {},
   "outputs": [
    {
     "name": "stdout",
     "output_type": "stream",
     "text": [
      "['1.37kg' '1.34kg' '1.86kg' '1.83kg' '2.1kg' '2.04kg' '1.3kg' '1.6kg'\n",
      " '2.2kg' '0.92kg' '1.22kg' '0.98kg' '2.5kg' '1.62kg' '1.91kg' '2.3kg'\n",
      " '1.35kg' '1.88kg' '1.89kg' '1.65kg' '2.71kg' '1.2kg' '1.44kg' '2.8kg'\n",
      " '2kg' '2.65kg' '2.77kg' '3.2kg' '0.69kg' '1.49kg' '2.4kg' '2.13kg'\n",
      " '2.43kg' '1.7kg' '1.4kg' '1.8kg' '1.9kg' '3kg' '1.252kg' '2.7kg' '2.02kg'\n",
      " '1.63kg' '1.96kg' '1.21kg' '2.45kg' '1.25kg' '1.5kg' '2.62kg' '1.38kg'\n",
      " '1.58kg' '1.85kg' '1.23kg' '1.26kg' '2.16kg' '2.36kg' '2.05kg' '1.32kg'\n",
      " '1.75kg' '0.97kg' '2.9kg' '2.56kg' '1.48kg' '1.74kg' '1.1kg' '1.56kg'\n",
      " '2.03kg' '1.05kg' '4.4kg' '1.90kg' '1.29kg' '2.0kg' '1.95kg' '2.06kg'\n",
      " '1.12kg' '1.42kg' '3.49kg' '3.35kg' '2.23kg' '4.42kg' '2.69kg' '2.37kg'\n",
      " '4.7kg' '3.6kg' '2.08kg' '4.3kg' '1.68kg' '1.41kg' '4.14kg' '2.18kg'\n",
      " '2.24kg' '2.67kg' '2.14kg' '1.36kg' '2.25kg' '2.15kg' '2.19kg' '2.54kg'\n",
      " '3.42kg' '1.28kg' '2.33kg' '1.45kg' '2.79kg' '1.84kg' '2.6kg' '2.26kg'\n",
      " '3.25kg' '1.59kg' '1.13kg' '1.78kg' '1.10kg' '1.15kg' '1.27kg' '1.43kg'\n",
      " '2.31kg' '1.16kg' '1.64kg' '2.17kg' '1.47kg' '3.78kg' '1.79kg' '0.91kg'\n",
      " '1.99kg' '4.33kg' '1.93kg' '1.87kg' '2.63kg' '3.4kg' '3.14kg' '1.94kg'\n",
      " '1.24kg' '4.6kg' '4.5kg' '2.73kg' '1.39kg' '2.29kg' '2.59kg' '2.94kg'\n",
      " '1.14kg' '3.8kg' '3.31kg' '1.09kg' '3.21kg' '1.19kg' '1.98kg' '1.17kg'\n",
      " '4.36kg' '1.71kg' '2.32kg' '4.2kg' '1.55kg' '0.81kg' '1.18kg' '2.72kg'\n",
      " '1.31kg' '0.920kg' '3.74kg' '1.76kg' '1.54kg' '2.83kg' '2.07kg' '2.38kg'\n",
      " '3.58kg' '1.08kg' '2.20kg' '2.75kg' '1.70kg' '2.99kg' '1.11kg' '2.09kg'\n",
      " '4kgs' '3.0kg' '0.99kg' '3.52kg' '2.591kg' '2.21kg' '3.3kg' '2.191kg'\n",
      " '2.34kg' '4.0kg']\n"
     ]
    }
   ],
   "source": [
    "print(laptops[\"weight\"].unique())"
   ]
  },
  {
   "cell_type": "code",
   "execution_count": 7,
   "metadata": {},
   "outputs": [
    {
     "name": "stdout",
     "output_type": "stream",
     "text": [
      "1061    4kgs\n",
      "Name: weight, dtype: object\n"
     ]
    }
   ],
   "source": [
    "# ran  laptops[\"weight\"] = laptops[\"weight\"].str.replace('kg','').astype(float)\n",
    "# ValueError: could not convert string to float: '4s'\n",
    "\n",
    "print(laptops.loc[laptops[\"weight\"].str.contains('s'), \"weight\"])"
   ]
  },
  {
   "cell_type": "code",
   "execution_count": 8,
   "metadata": {},
   "outputs": [
    {
     "name": "stdout",
     "output_type": "stream",
     "text": [
      "count    1303.000000\n",
      "mean        2.038734\n",
      "std         0.665475\n",
      "min         0.690000\n",
      "25%         1.500000\n",
      "50%         2.040000\n",
      "75%         2.300000\n",
      "max         4.700000\n",
      "Name: weight_kg, dtype: float64\n"
     ]
    }
   ],
   "source": [
    "laptops[\"weight\"] = laptops[\"weight\"].str.replace(\"kgs\",\"\").str.replace(\"kg\",\"\").astype(float)\n",
    "laptops.rename({'weight':'weight_kg'}, axis=1, inplace = True)\n",
    "weight_describe = laptops['weight_kg'].describe()\n",
    "print(weight_describe)"
   ]
  },
  {
   "cell_type": "markdown",
   "metadata": {},
   "source": [
    "__The 'price_euros' column__"
   ]
  },
  {
   "cell_type": "code",
   "execution_count": 9,
   "metadata": {},
   "outputs": [
    {
     "name": "stdout",
     "output_type": "stream",
     "text": [
      "['1339,69' '898,94' '575,00' '2537,45' '1803,60']\n",
      "['549,99' '805,99' '720,32' '638,00' '764,00']\n"
     ]
    }
   ],
   "source": [
    "print(laptops[\"price_euros\"].unique()[:5])\n",
    "print(laptops[\"price_euros\"].unique()[-5:])"
   ]
  },
  {
   "cell_type": "code",
   "execution_count": 10,
   "metadata": {},
   "outputs": [
    {
     "name": "stdout",
     "output_type": "stream",
     "text": [
      "count    1303.000000\n",
      "mean     1123.686992\n",
      "std       699.009043\n",
      "min       174.000000\n",
      "25%       599.000000\n",
      "50%       977.000000\n",
      "75%      1487.880000\n",
      "max      6099.000000\n",
      "Name: price_euros, dtype: float64\n"
     ]
    }
   ],
   "source": [
    "laptops[\"price_euros\"] = laptops[\"price_euros\"].str.replace(',','.').astype(float)\n",
    "price_describe = laptops[\"price_euros\"].describe()\n",
    "print(price_describe)"
   ]
  },
  {
   "cell_type": "markdown",
   "metadata": {},
   "source": [
    "__The 'cpu' column (same method for 'gpu' column)__<br> extract brand names and speed number"
   ]
  },
  {
   "cell_type": "code",
   "execution_count": 20,
   "metadata": {},
   "outputs": [
    {
     "name": "stdout",
     "output_type": "stream",
     "text": [
      "0          Intel Core i5 2.3GHz\n",
      "1          Intel Core i5 1.8GHz\n",
      "2    Intel Core i5 7200U 2.5GHz\n",
      "3          Intel Core i7 2.7GHz\n",
      "4          Intel Core i5 3.1GHz\n",
      "Name: cpu, dtype: object\n"
     ]
    }
   ],
   "source": [
    "print(laptops['cpu'].head())\n",
    "# every item is consisted of a brand name, model type, and the GHz value.\n",
    "# We want to extract the brand names to see how many laptops cpus are in each brand"
   ]
  },
  {
   "cell_type": "code",
   "execution_count": 17,
   "metadata": {},
   "outputs": [
    {
     "data": {
      "text/plain": [
       "Intel      1240\n",
       "AMD          62\n",
       "Samsung       1\n",
       "Name: cpu_manufacturer, dtype: int64"
      ]
     },
     "execution_count": 17,
     "metadata": {},
     "output_type": "execute_result"
    }
   ],
   "source": [
    "# How many laptops are there in each unique cpu brand?\n",
    "\n",
    "laptops['cpu_manufacturer'] = (laptops['cpu']\n",
    "                               .str.split(n=1,expand=True)\n",
    "                               .iloc[:,0])  \n",
    "\n",
    "laptops['cpu_manufacturer'].value_counts()\n",
    "# split the string of each row only on the first whitespace, into a Seires of list\n",
    "# expand the result into a DataFrame\n",
    "# extract the first column"
   ]
  },
  {
   "cell_type": "code",
   "execution_count": 24,
   "metadata": {},
   "outputs": [
    {
     "data": {
      "text/plain": [
       "2.50    293\n",
       "2.70    166\n",
       "2.80    165\n",
       "1.60    134\n",
       "2.00     86\n",
       "2.30     86\n",
       "1.80     78\n",
       "2.60     76\n",
       "1.10     53\n",
       "2.40     52\n",
       "2.90     21\n",
       "3.00     19\n",
       "1.20     15\n",
       "1.44     12\n",
       "2.20     11\n",
       "1.50     10\n",
       "1.30      6\n",
       "3.60      5\n",
       "0.90      4\n",
       "2.10      3\n",
       "3.10      3\n",
       "1.90      2\n",
       "1.92      1\n",
       "1.00      1\n",
       "3.20      1\n",
       "Name: cpu_speed, dtype: int64"
      ]
     },
     "execution_count": 24,
     "metadata": {},
     "output_type": "execute_result"
    }
   ],
   "source": [
    "# How many didfferent cpu speed do we have?\n",
    "\n",
    "laptops['cpu_speed'] = laptops['cpu'].str.rsplit(n=1,expand=True).iloc[:,1]\n",
    "laptops['cpu_speed'] = laptops['cpu_speed'].str.replace('GHz','').astype(float)\n",
    "laptops['cpu_speed'].value_counts(ascending = False)"
   ]
  },
  {
   "cell_type": "markdown",
   "metadata": {},
   "source": [
    "__The 'screen' column__<br>\n",
    "extract screen sizes"
   ]
  },
  {
   "cell_type": "code",
   "execution_count": 26,
   "metadata": {},
   "outputs": [
    {
     "name": "stdout",
     "output_type": "stream",
     "text": [
      "0    IPS Panel Retina Display 2560x1600\n",
      "1                              1440x900\n",
      "2                     Full HD 1920x1080\n",
      "3    IPS Panel Retina Display 2880x1800\n",
      "4    IPS Panel Retina Display 2560x1600\n",
      "5                              1366x768\n",
      "6    IPS Panel Retina Display 2880x1800\n",
      "7                              1440x900\n",
      "8                     Full HD 1920x1080\n",
      "9           IPS Panel Full HD 1920x1080\n",
      "Name: screen, dtype: object\n"
     ]
    }
   ],
   "source": [
    "print(laptops['screen'].head(10))"
   ]
  },
  {
   "cell_type": "code",
   "execution_count": 31,
   "metadata": {},
   "outputs": [
    {
     "name": "stdout",
     "output_type": "stream",
     "text": [
      "                          0          1\n",
      "0  IPS Panel Retina Display  2560x1600\n",
      "1                  1440x900       None\n",
      "2                   Full HD  1920x1080\n",
      "3  IPS Panel Retina Display  2880x1800\n",
      "4  IPS Panel Retina Display  2560x1600\n",
      "5                  1366x768       None\n",
      "6  IPS Panel Retina Display  2880x1800\n",
      "7                  1440x900       None\n",
      "8                   Full HD  1920x1080\n",
      "9         IPS Panel Full HD  1920x1080\n"
     ]
    }
   ],
   "source": [
    "screen_res = laptops['screen'].str.rsplit(n=1, expand = True)\n",
    "print(screen_res.iloc[:10])"
   ]
  },
  {
   "cell_type": "code",
   "execution_count": 33,
   "metadata": {},
   "outputs": [
    {
     "name": "stdout",
     "output_type": "stream",
     "text": [
      "                          A          B\n",
      "0  IPS Panel Retina Display  2560x1600\n",
      "1                  1440x900   1440x900\n",
      "2                   Full HD  1920x1080\n",
      "3  IPS Panel Retina Display  2880x1800\n",
      "4  IPS Panel Retina Display  2560x1600\n",
      "5                  1366x768   1366x768\n",
      "6  IPS Panel Retina Display  2880x1800\n",
      "7                  1440x900   1440x900\n",
      "8                   Full HD  1920x1080\n",
      "9         IPS Panel Full HD  1920x1080\n"
     ]
    }
   ],
   "source": [
    "screen_res.columns = ['A','B']\n",
    "screen_res.loc[screen_res['B'].isnull(), 'B'] =  screen_res.loc[screen_res['B'].isnull(), 'A'] \n",
    "print(screen_res.iloc[:10])\n",
    "\n",
    "laptops['screen_res'] = screen_res['B']"
   ]
  },
  {
   "cell_type": "markdown",
   "metadata": {},
   "source": [
    "__The 'os' column__<br> inconsistent values"
   ]
  },
  {
   "cell_type": "code",
   "execution_count": 34,
   "metadata": {},
   "outputs": [
    {
     "name": "stdout",
     "output_type": "stream",
     "text": [
      "['macOS' 'No OS' 'Windows' 'Mac OS' 'Linux' 'Android' 'Chrome OS']\n"
     ]
    }
   ],
   "source": [
    "print(laptops['os'].unique())"
   ]
  },
  {
   "cell_type": "code",
   "execution_count": 39,
   "metadata": {},
   "outputs": [],
   "source": [
    "laptops['os'] = laptops['os'].replace('Mac OS', 'macOS')   # replace certain values in a Series"
   ]
  },
  {
   "cell_type": "code",
   "execution_count": 38,
   "metadata": {},
   "outputs": [
    {
     "name": "stdout",
     "output_type": "stream",
     "text": [
      "['macOS' 'No OS' 'Windows' 'Linux' 'Android' 'Chrome OS']\n"
     ]
    }
   ],
   "source": [
    "print(laptops['os'].unique())"
   ]
  },
  {
   "cell_type": "markdown",
   "metadata": {},
   "source": [
    "Solution using Seires.map()\n",
    "\n",
    "mapping_dict = {\n",
    "    'Android': 'Android',\n",
    "    'Chrome OS': 'Chrome OS',\n",
    "    'Linux': 'Linux',\n",
    "    'Mac OS': 'macOS',\n",
    "    'No OS': 'No OS',\n",
    "    'Windows': 'Windows',\n",
    "    'macOS': 'macOS'\n",
    "}\n",
    "\n",
    "laptops['os'] = laptops['os'].map(mapping_dict)"
   ]
  },
  {
   "cell_type": "markdown",
   "metadata": {},
   "source": [
    "__Identify Missing Values__<br>\n",
    "-  DataFrame.info()<br>\n",
    "    _There are two downsides to this approach - firstly the information is printed, so we can't easily work with it, and secondly looking at the number of non-null values can be harder to understand than looking at the number of null values._\n",
    "-  DataFrame.isnull().sum()\n",
    "\n",
    "__Handle Missing Values__<br>\n",
    "-  Remove any rows that have missing values.\n",
    "-  Remove any columns that have missing values.\n",
    "-  Fill the missing values with some other value.\n",
    "-  Leave the missing values as is.\n",
    "\n",
    "    _The first two options, is often used when preparing data for machine learning, as machine learning algorithms are unable to be trained on data that includes null values. \n",
    "    The methods is the DataFrame.dropna(). Removing columns and rows is commonly known as dropping._"
   ]
  },
  {
   "cell_type": "code",
   "execution_count": null,
   "metadata": {},
   "outputs": [],
   "source": [
    "# df.dropna() to remove rows or columns\n",
    "laptops_no_null_rows = laptops.dropna()\n",
    "laptops_no_null_cols = laptops.dropna(axis =1)"
   ]
  },
  {
   "cell_type": "code",
   "execution_count": null,
   "metadata": {},
   "outputs": [],
   "source": [
    "laptops.loc[laptops[\"os\"] == \"No OS\", \"os_version\"] = \"Version Unknown\"\n",
    "value_counts_after = laptops.loc[laptops[\"os_version\"].isnull(), \"os\"].value_counts()"
   ]
  },
  {
   "cell_type": "markdown",
   "metadata": {},
   "source": [
    "__The Storage Column__"
   ]
  },
  {
   "cell_type": "code",
   "execution_count": 3,
   "metadata": {
    "scrolled": true
   },
   "outputs": [
    {
     "name": "stdout",
     "output_type": "stream",
     "text": [
      "76                 2TB HDD\n",
      "77    128GB SSD +  1TB HDD\n",
      "78                 1TB HDD\n",
      "79    128GB SSD +  1TB HDD\n",
      "80               256GB SSD\n",
      "81               512GB SSD\n",
      "Name: storage, dtype: object\n"
     ]
    }
   ],
   "source": [
    "print(laptops.loc[76:81, 'storage'])\n",
    "\n",
    "# From this sample, we can observe:\n",
    "# Some laptops have two disks and some just have one.\n",
    "# Each disk has a capacity (eg 128GB) and a type (eg SSD).\n",
    "# Capacities are expressed in either gigabytes (GB) or terabytes (TB)."
   ]
  },
  {
   "cell_type": "code",
   "execution_count": 5,
   "metadata": {},
   "outputs": [],
   "source": [
    "#laptops[\"storage\"] = laptops['storage'].str.replace('GB','').str.replace('TB','000')\n",
    "#laptops[[\"storage1\",\"storage2\"]] = laptops[\"storage\"].str.split(\"+\",expand=True)\n",
    "\n",
    "laptops[\"storage\"] = laptops[\"storage\"].str.replace('GB','').str.replace('TB','000')\n",
    "laptops[[\"storage1\", \"storage2\"]] = laptops[\"storage\"].str.split(\"+\", expand=True)\n",
    "\n",
    "for i in ['storage1','storage2']:\n",
    "    s_capacity = i + '_capacity'\n",
    "    s_type = i + '_type'\n",
    "    laptops[[s_capacity,s_type]] = laptops[i].str.split(n=1, expand = True)   # n=1 is needed because there might be empty sapce after storage type.\n",
    "    laptops[s_capacity] = laptops[s_capacity].astype(float)\n",
    "    laptops[s_type] = laptops[s_type].str.strip()\n",
    "\n",
    "laptops.drop(['storage','storage1','storage2'], inplace = True)\n"
   ]
  },
  {
   "cell_type": "markdown",
   "metadata": {},
   "source": [
    "__Save the cleaned data__"
   ]
  },
  {
   "cell_type": "code",
   "execution_count": 50,
   "metadata": {},
   "outputs": [],
   "source": [
    "laptops.to_csv('laptops_cleaned.csv',index=False)\n",
    "laptops_cleaned = pd.read_csv('laptops_cleaned.csv')\n",
    "laptops_cleaned_dtypes = laptops_cleaned.dtypes"
   ]
  },
  {
   "cell_type": "code",
   "execution_count": 15,
   "metadata": {},
   "outputs": [
    {
     "name": "stdout",
     "output_type": "stream",
     "text": [
      "nan\n"
     ]
    }
   ],
   "source": [
    "x=np.nan\n",
    "print(float(x))"
   ]
  },
  {
   "cell_type": "code",
   "execution_count": null,
   "metadata": {},
   "outputs": [],
   "source": []
  }
 ],
 "metadata": {
  "kernelspec": {
   "display_name": "Python 3",
   "language": "python",
   "name": "python3"
  },
  "language_info": {
   "codemirror_mode": {
    "name": "ipython",
    "version": 3
   },
   "file_extension": ".py",
   "mimetype": "text/x-python",
   "name": "python",
   "nbconvert_exporter": "python",
   "pygments_lexer": "ipython3",
   "version": "3.6.4"
  }
 },
 "nbformat": 4,
 "nbformat_minor": 2
}
