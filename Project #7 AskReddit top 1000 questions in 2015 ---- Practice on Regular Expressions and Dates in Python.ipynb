{
 "cells": [
  {
   "cell_type": "markdown",
   "metadata": {},
   "source": [
    "This data set contains the top 1,000 questions users posted to AskReddit in 2015.\n",
    "There are five columns:\n",
    "\n",
    "Columns | Description\n",
    "---|---\n",
    "Title | The title of the post\n",
    "Score | The number of upvotes the post received\n",
    "Time | When the post was posted\n",
    "Gold | How much Reddit Gold users gave the post\n",
    "NumComs | The number of comments the post received\n",
    "\n",
    "# About regular expression"
   ]
  },
  {
   "cell_type": "code",
   "execution_count": 7,
   "metadata": {},
   "outputs": [
    {
     "name": "stdout",
     "output_type": "stream",
     "text": [
      "[['What\\'s your internet \"white whale\", something you\\'ve been searching for years to find with no luck?', '11510', '1433213314', '1', '26195'], [\"What's your favorite video that is 10 seconds or less?\", '8656', '1434205517', '4', '8479'], ['What are some interesting tests you can take to find out about yourself?', '8480', '1443409636', '1', '4055'], [\"PhD's of Reddit. What is a dumbed down summary of your thesis?\", '7927', '1440188623', '0', '13201']]\n"
     ]
    }
   ],
   "source": [
    "# read the data set and display the first 4 rows.\n",
    "\n",
    "import csv\n",
    "postswithheader = list(csv.reader(open('askreddit_2015.csv','r',encoding='utf8')))\n",
    "posts = postswithheader[1:]\n",
    "print(posts[:4])"
   ]
  },
  {
   "cell_type": "code",
   "execution_count": 11,
   "metadata": {},
   "outputs": [
    {
     "name": "stdout",
     "output_type": "stream",
     "text": [
      "Number of questions containing 'of reddit': 102\n"
     ]
    }
   ],
   "source": [
    "# some questions are for certain group of people, they contain expression like 'doctors of Reddit', 'PhD's of raddit'.\n",
    "# We will count how many questions have 'of reddit' or 'of Reddit'\n",
    "\n",
    "import re\n",
    "of_reddit_count = 0\n",
    "for row in posts:\n",
    "    if re.search('of [Rr]eddit',row[0]) is not None:    # re.search() results in None or a match object, [] in regex\n",
    "        of_reddit_count +=1\n",
    "print(\"Number of questions containing 'of reddit':\", of_reddit_count)"
   ]
  },
  {
   "cell_type": "code",
   "execution_count": 20,
   "metadata": {},
   "outputs": [
    {
     "name": "stdout",
     "output_type": "stream",
     "text": [
      "Number of questions start/end with [Serious], [serious],(Serious), or (serious): 80\n"
     ]
    }
   ],
   "source": [
    "# Some questions contain [Serious] tag. We would like to know how many questions have this tag.\n",
    "# However if we [Serious] in regex, the interpreter will match any string that contains 'S', 'e','r', etc.\n",
    "# As a result, we will use '\\' to escape special characters.\n",
    "# We will only count the questions with the tag at the beginning and end of the questions.\n",
    "\n",
    "serious_count = 0\n",
    "for row in posts:\n",
    "    if re.search('^[\\[\\(][Ss]erious[\\]\\)]|[\\[\\(][Ss]erious[\\]\\)]$', row[0]) is not None:  # using \\,^, $, and |\n",
    "        serious_count +=1\n",
    "print('Number of questions start/end with [Serious], [serious],(Serious), or (serious):', serious_count)"
   ]
  },
  {
   "cell_type": "code",
   "execution_count": 21,
   "metadata": {},
   "outputs": [],
   "source": [
    "# Replace \"[serious]\", \"(Serious)\", and \"(serious)\" with \"[Serious]\" for all of the titles in posts.\n",
    "# using re.sub()\n",
    "\n",
    "for row in posts:\n",
    "    re.sub('[\\[\\(][Ss]erious[\\]\\)]','[Serious]',row[0])  #the 2nd argument is a string, no need to use escape."
   ]
  },
  {
   "cell_type": "code",
   "execution_count": 25,
   "metadata": {},
   "outputs": [
    {
     "name": "stdout",
     "output_type": "stream",
     "text": [
      "[['2012'], ['2005'], ['2007'], ['1999']]\n"
     ]
    }
   ],
   "source": [
    "# How to extract the years from the below strings?\n",
    "\n",
    "dates = [\"Jan 17, 2012\",\"9/22/2005\",\"Spring 2007\",\"New Year's Eve 1999\"]\n",
    "years =[]\n",
    "for item in dates:\n",
    "    years.append(re.findall('[1-2][0-9]{3}',item))    # re.findall(regex, strings), [1-2], {3}\n",
    "print(years)"
   ]
  },
  {
   "cell_type": "markdown",
   "metadata": {},
   "source": [
    "# About time and date"
   ]
  },
  {
   "cell_type": "code",
   "execution_count": 30,
   "metadata": {},
   "outputs": [
    {
     "name": "stdout",
     "output_type": "stream",
     "text": [
      "2019\n",
      "2019\n"
     ]
    }
   ],
   "source": [
    "import time\n",
    "current_time = time.time()                       # Unix timestamps\n",
    "current_struct_time = time.gmtime(current_time)  # create an instance of the struct_time class\n",
    "current_hour = current_struct_time.tm_hour # use.tm_hour method to get the current hour in UTC (Coordinated Universal Time).\n",
    "current_year1 = current_struct_time.tm_year\n",
    "print(current_year1)\n",
    "\n",
    "import datetime                                  # works better with dates for arithmetic\n",
    "current_datetime = datetime.datetime.utcnow()    # the datatime module has a daytime class. Make an instance, module.class.method()\n",
    "current_year2 = current_datetime.year\n",
    "print(current_year2)                             # same result as time.gmtime(time.time).tm_year\n",
    "\n",
    "# Perform arithmatic on dates:  datetime module has the timedelta class, the instace represents a span of time\n",
    "# Them add or subtract it from instances of the datetime class.\n",
    "today = datetime.datetime.now()                  # first, make an instance of the datetime\n",
    "diff = datetime.timedelta(weeks = 3, days = 2)   # make an instance of timedelta class that represent the span of time\n",
    "future = today + diff                            # the date of 3 weeks and 2 days from now\n",
    "\n",
    "# Print datetime object, customize the string output\n",
    "march3 = datetime.datetime(year = 2010, month = 3, day = 3)      #store a timestamp in march3, the arguments have no ''\n",
    "pretty_march3 = march3.strftime('%b %d, %Y')                     # datetime.datetime.strftime(arguments) https://docs.python.org/3/library/datetime.html#strftime-and-strptime-behavior\n",
    "march3 = datetime.datetime.strftime('Mar 03,2010', '%b %d,%Y')   # convert the string back to a datetime object                                                \n"
   ]
  },
  {
   "cell_type": "code",
   "execution_count": 31,
   "metadata": {},
   "outputs": [
    {
     "name": "stdout",
     "output_type": "stream",
     "text": [
      "2015-06-01 22:48:34\n"
     ]
    }
   ],
   "source": [
    "# convert the Unix timestamps data in the time column to human readable strings\n",
    "for row in posts:\n",
    "    row[2] = datetime.datetime.fromtimestamp(float(row[2]))  #datetime.datetime.fromtimestamp(float)\n",
    "                                                             # now row[2] is an instance of datetime\n",
    "print(posts[0][2])"
   ]
  },
  {
   "cell_type": "code",
   "execution_count": 35,
   "metadata": {},
   "outputs": [
    {
     "name": "stdout",
     "output_type": "stream",
     "text": [
      "59\n"
     ]
    }
   ],
   "source": [
    "# How many questions of the top 1000 questions were submitted in each month?\n",
    "def postmonth(month):\n",
    "    month_count = 0\n",
    "    for row in posts:\n",
    "        if row[2].month == month:\n",
    "            month_count +=1\n",
    "    return month_count\n",
    "print(postmonth(3))"
   ]
  }
 ],
 "metadata": {
  "kernelspec": {
   "display_name": "Python 3",
   "language": "python",
   "name": "python3"
  },
  "language_info": {
   "codemirror_mode": {
    "name": "ipython",
    "version": 3
   },
   "file_extension": ".py",
   "mimetype": "text/x-python",
   "name": "python",
   "nbconvert_exporter": "python",
   "pygments_lexer": "ipython3",
   "version": "3.6.4"
  }
 },
 "nbformat": 4,
 "nbformat_minor": 2
}
