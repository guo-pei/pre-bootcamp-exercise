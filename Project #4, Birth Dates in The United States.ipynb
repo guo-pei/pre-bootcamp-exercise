{
 "cells": [
  {
   "cell_type": "markdown",
   "metadata": {},
   "source": [
    "# Birth Dates in The United States\n",
    "\n",
    "**Some people are too supertitious to have a baby on Friday the 13th**, which you can read __[here](http://url)__.\n",
    "\n",
    "We will be working with the _[data set](https://raw.githubusercontent.com/fivethirtyeight/data/master/births/US_births_1994-2003_CDC_NCHS.csv)_ from the Centers of disease control and Prevention National Center for Health Statistics. The data set has the following structure:\n",
    "- `year` - Year\n",
    "- `month`- Month\n",
    "- `date_of_month`- Day number of the month\n",
    "- `day_of_week`- Day of week\n",
    "- `births`- Number of births"
   ]
  },
  {
   "cell_type": "code",
   "execution_count": 2,
   "metadata": {},
   "outputs": [
    {
     "name": "stdout",
     "output_type": "stream",
     "text": [
      "[[1994, 1, 1, 6, 8096], [1994, 1, 2, 7, 7772], [1994, 1, 3, 1, 10142], [1994, 1, 4, 2, 11248], [1994, 1, 5, 3, 11053]]\n"
     ]
    }
   ],
   "source": [
    "# prepare the data for analysis: read file, remove header, convert string numbers to integer.\n",
    "\n",
    "def read_csv(csvfile):\n",
    "    f = open(csvfile,'r')\n",
    "    r = f.read()\n",
    "    s = r.split('\\n')\n",
    "    sh = s[1:]\n",
    "    finallist = []\n",
    "    llist = []\n",
    "    for i in sh:\n",
    "        n = i.split(',')\n",
    "        llist.append(n)\n",
    "    for i in llist:\n",
    "        n = []\n",
    "        for j in i:\n",
    "            j = int(j)\n",
    "            n.append(j)\n",
    "        finallist.append(n)\n",
    "    return(finallist)\n",
    "\n",
    "birthdata = read_csv('US_births_1994-2003_CDC_NCHS.csv')\n",
    "print(birthdata[:5])"
   ]
  },
  {
   "cell_type": "code",
   "execution_count": 25,
   "metadata": {},
   "outputs": [
    {
     "name": "stdout",
     "output_type": "stream",
     "text": [
      "{1: 1276557, 2: 1288739, 3: 1304499, 4: 1288154, 5: 1299953, 6: 1304474, 7: 1310459, 8: 1312297, 9: 1303292, 10: 1320764, 11: 1314361, 12: 1318437, 13: 1277684, 14: 1320153, 15: 1319171, 16: 1315192, 17: 1324953, 18: 1326855, 19: 1318727, 20: 1324821, 21: 1322897, 22: 1317381, 23: 1293290, 24: 1288083, 25: 1272116, 26: 1284796, 27: 1294395, 28: 1307685, 29: 1223161, 30: 1202095, 31: 746696}\n"
     ]
    }
   ],
   "source": [
    "# what is the total birth of each unique year/month/day of the week,etc.?\n",
    "# to answer this, we need to creat a function that calculates the total birth for each unique element of a given column.\n",
    "\n",
    "def birthcount(maindata,index):\n",
    "    datacount = {}\n",
    "    for i in maindata:\n",
    "        if i[index] in datacount:\n",
    "            datacount[i[index]] += i[4]\n",
    "        else: datacount[i[index]] = i[4]\n",
    "    return datacount\n",
    "\n",
    "calc_date_month = birthcount(birthdata,2) # calculate the total birth for each date of the month\n",
    "print(calc_date_month)"
   ]
  },
  {
   "cell_type": "code",
   "execution_count": 35,
   "metadata": {},
   "outputs": [
    {
     "name": "stdout",
     "output_type": "stream",
     "text": [
      "(18, 1326855, 31, 746696)\n"
     ]
    }
   ],
   "source": [
    "# what are the dates of the month that have the max and min number of births?\n",
    "\n",
    "# a function that calculates the min and max values for any dictionary that's passed in.\n",
    "def max_min(dict):\n",
    "    max = 0\n",
    "    min = next(iter(dict.values()))\n",
    "    for key, value in dict.items():\n",
    "        if value > max:\n",
    "            max = value\n",
    "            maxkey = key\n",
    "        elif value < min:\n",
    "            min = value \n",
    "            minkey = key\n",
    "    return maxkey,max, minkey,min\n",
    "\n",
    "#print(calc_date_month)\n",
    "a = max_min(calc_date_month)\n",
    "print(a)\n",
    "        "
   ]
  },
  {
   "cell_type": "code",
   "execution_count": null,
   "metadata": {},
   "outputs": [],
   "source": []
  }
 ],
 "metadata": {
  "kernelspec": {
   "display_name": "Python 3",
   "language": "python",
   "name": "python3"
  },
  "language_info": {
   "codemirror_mode": {
    "name": "ipython",
    "version": 3
   },
   "file_extension": ".py",
   "mimetype": "text/x-python",
   "name": "python",
   "nbconvert_exporter": "python",
   "pygments_lexer": "ipython3",
   "version": "3.6.4"
  }
 },
 "nbformat": 4,
 "nbformat_minor": 2
}
