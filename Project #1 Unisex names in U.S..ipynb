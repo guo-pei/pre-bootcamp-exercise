{
 "cells": [
  {
   "cell_type": "markdown",
   "metadata": {},
   "source": [
    "# Unisex Names\n",
    "\n",
    "In this project, I will pratice how to prepare a raw csv data and do basic analysis using _[Data](https://github.com/fivethirtyeight/data/blob/master/unisex-names/unisex_names_table.csv)_ of U.S. unisex names. \n",
    "\n",
    "The data set has the following variables\n",
    "\n",
    "| Header | Definition |\n",
    "| --- | --- |\n",
    "| `name` | first names | \n",
    "| `total` | Total number of living Americans with the name |\n",
    "| `male_share` | Percentage of people with the name who are male |\n",
    "| `female_share` | Percentage of people with the name who are female |\n",
    "| `gap` | Gap between male_share and female_share |"
   ]
  },
  {
   "cell_type": "code",
   "execution_count": 31,
   "metadata": {},
   "outputs": [
    {
     "name": "stdout",
     "output_type": "stream",
     "text": [
      "[['\"Casey\"', 176544.328149], ['\"Riley\"', 154860.665173], ['\"Jessie\"', 136381.830656], ['\"Jackie\"', 132928.78874], ['\"Avery\"', 121797.419516]]\n",
      "['\"Casey\"', '\"Riley\"', '\"Jessie\"', '\"Jackie\"', '\"Avery\"']\n"
     ]
    }
   ],
   "source": [
    "f = open('unisex_names_table.csv','r')  # open a csv into a file object\n",
    "names = f.read()                        # read the file object into a string\n",
    "names_list = names.split('\\n') # convert the string into a list of strings  \n",
    "noheader = names_list[1:]  # remove header\n",
    "\n",
    "# split each element of the list on ',' and convert it to a nested list\n",
    "nested_list = []\n",
    "for i in noheader:\n",
    "    nocomma_list = i.split(',')\n",
    "    nested_list.append(nocomma_list)\n",
    "    \n",
    "#create a new list with only the second and third columns from the original list, with the numbers in float\n",
    "name_total = []\n",
    "for i in nested_list:\n",
    "    n = []\n",
    "    if len(i) == 6:\n",
    "        n.append(i[1])\n",
    "        n.append(float(i[2]))\n",
    "        name_total.append(n)\n",
    "    else:\n",
    "        pass\n",
    "print(name_total[:5])\n",
    "\n",
    "#create a new list with names that are shared with 1000 or more people\n",
    "name_thousand = []\n",
    "for i in nested_list:\n",
    "    if len(i) == 6:\n",
    "        if float(i[2]) >= 1000:\n",
    "            name_thousand.append(i[1])\n",
    "        else: pass\n",
    "print(name_thousand[:5])\n",
    "\n"
   ]
  },
  {
   "cell_type": "markdown",
   "metadata": {},
   "source": [
    "What I learned:\n",
    "1. data cleaning: in case of an empty row in dataset, use if len()== row items to ignore the empty row\n",
    "2. Leave space between the paragragh and the Jupyter markdown table"
   ]
  }
 ],
 "metadata": {
  "kernelspec": {
   "display_name": "Python 3",
   "language": "python",
   "name": "python3"
  },
  "language_info": {
   "codemirror_mode": {
    "name": "ipython",
    "version": 3
   },
   "file_extension": ".py",
   "mimetype": "text/x-python",
   "name": "python",
   "nbconvert_exporter": "python",
   "pygments_lexer": "ipython3",
   "version": "3.6.4"
  }
 },
 "nbformat": 4,
 "nbformat_minor": 2
}
