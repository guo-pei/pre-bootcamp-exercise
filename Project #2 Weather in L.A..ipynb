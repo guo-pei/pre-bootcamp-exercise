{
 "cells": [
  {
   "cell_type": "markdown",
   "metadata": {},
   "source": [
    "Data: weather in L.A. in year of 2014. \n",
    "\n",
    "The goal: to calculate how many dates each weather type happened in a year.\n",
    "\n",
    "| Header | Description |\n",
    "|:---|:---|\n",
    "| Day | from `1` to `365`|\n",
    "| Type of Weather | `Sunny`, `Rain`, `Fog`, `Fog-Rain`, or `Thurderstrom` |"
   ]
  },
  {
   "cell_type": "code",
   "execution_count": 10,
   "metadata": {},
   "outputs": [
    {
     "name": "stdout",
     "output_type": "stream",
     "text": [
      "[['1', 'Sunny'], ['2', 'Sunny'], ['3', 'Sunny'], ['4', 'Sunny'], ['5', 'Sunny']]\n"
     ]
    }
   ],
   "source": [
    "# prepare the data set: open the csv file and convert it into list of lists. Remove the header.\n",
    "\n",
    "f = open('la_weather.csv','r')\n",
    "r = f.read()\n",
    "s = r.split('\\n')\n",
    "s_noheader = s[1:]\n",
    "weather_data = []\n",
    "for i in s_noheader:\n",
    "    w = i.split(',')\n",
    "    weather_data.append(w)\n",
    "print(weather_data[:5])"
   ]
  },
  {
   "cell_type": "code",
   "execution_count": 11,
   "metadata": {},
   "outputs": [
    {
     "name": "stdout",
     "output_type": "stream",
     "text": [
      "{'Sunny': 210, 'Rain': 25, 'Fog': 125, 'Fog-Rain': 4, 'Thunderstorm': 1}\n"
     ]
    }
   ],
   "source": [
    "# create a list of all the weather data\n",
    "weather = []\n",
    "for i in weather_data:\n",
    "    weather.append(i[1])\n",
    "    \n",
    "#count the weather types\n",
    "weather_count = {}\n",
    "for i in weather:\n",
    "    if i in weather_count:\n",
    "        weather_count[i] += 1\n",
    "    else: weather_count[i] = 1\n",
    "print(weather_count)"
   ]
  },
  {
   "cell_type": "code",
   "execution_count": null,
   "metadata": {},
   "outputs": [],
   "source": []
  }
 ],
 "metadata": {
  "kernelspec": {
   "display_name": "Python 3",
   "language": "python",
   "name": "python3"
  },
  "language_info": {
   "codemirror_mode": {
    "name": "ipython",
    "version": 3
   },
   "file_extension": ".py",
   "mimetype": "text/x-python",
   "name": "python",
   "nbconvert_exporter": "python",
   "pygments_lexer": "ipython3",
   "version": "3.6.4"
  }
 },
 "nbformat": 4,
 "nbformat_minor": 2
}
