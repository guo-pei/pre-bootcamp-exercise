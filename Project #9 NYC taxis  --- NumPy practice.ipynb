{
 "cells": [
  {
   "cell_type": "markdown",
   "metadata": {},
   "source": [
    "This is a subset of the New York City taxi trip data.\n",
    "\n",
    "pickup_year | pickup_month | pickup_day |pickup_dayofweek|pick_time|pickup_location_code |dropoff_location_code |trip_distance|trip_length|fare_amount|fees_amount|tolls_amount|tip_amount|total_amount|Payment_type\n",
    "--|--|--|--|--|--|--|--|--|--|--|--|--|--|--\n",
    "2016|1|1|5|0|2|4|21.00|2037|52.0|0.8|5.54|11.65|69.99|1\n",
    "\n",
    "-  pickup_month: January is 1, December is 12\n",
    "-  The airport or borough where the the trip started/ended, as one of eight categories:\n",
    "   0 - Bronx.\n",
    "   1 - Brooklyn.\n",
    "   2 - JFK Airport.\n",
    "   3 - LaGuardia Airport.\n",
    "   4 - Manhattan.\n",
    "   5 - Newark Airport.\n",
    "   6 - Queens.\n",
    "   7 - Staten Island.\n",
    "-  trip distances in miles\n",
    "-  trip_length is seconds\n",
    "-  fare_amount in dollars\n",
    "\n",
    "_Knowledge leanred_:\n",
    "-  read a txt into a ndarray\n",
    "-  retrieve data from ndarrays\n",
    "-  change dimensions\n",
    "-  add rows or column\n",
    "-  change print style\n",
    "-  sort values\n",
    "-  modify values\n",
    "-  remove bad data\n"
   ]
  },
  {
   "cell_type": "code",
   "execution_count": 1,
   "metadata": {},
   "outputs": [
    {
     "name": "stdout",
     "output_type": "stream",
     "text": [
      "[[2016.      1.      1.   ...   11.65   69.99    1.  ]\n",
      " [2016.      1.      1.   ...    8.     54.3     1.  ]\n",
      " [2016.      1.      1.   ...    0.     37.8     2.  ]\n",
      " ...\n",
      " [2016.      6.     30.   ...    5.     63.34    1.  ]\n",
      " [2016.      6.     30.   ...    8.95   44.75    1.  ]\n",
      " [2016.      6.     30.   ...    0.     54.84    2.  ]]\n"
     ]
    }
   ],
   "source": [
    "# The solution using csv module:  10 more lines! read the dataset and convert all the values to float\n",
    "#import csv\n",
    "#taxi_list_header = list(csv.reader(open('nyc_taxis.csv','r')))\n",
    "#taxi_list = taxi_list_header[1:]\n",
    "#converted_list =[]                    # convert all the values to float.  every value in ndarray must be of the same type.\n",
    "#for row in taxi_list:\n",
    "#    converted_row = []\n",
    "#    for item in row:\n",
    "#        converted_row.append(float(item))\n",
    "#    converted_list.append(converted_row)\n",
    "#taxiarray = np.array(converted_list)  # convert list of lists to ndarray using np.array\n",
    "\n",
    "import numpy as np\n",
    "taxiarray = np.genfromtxt('nyc_taxis.csv',delimiter=',',skip_header=1)  # This is the way to convert txt to ndarray!\n",
    "\n",
    "np.set_printoptions(suppress=True, precision=2)    # np.set_printoptions(suppress=True or precision=#)\n",
    "print(taxiarray)"
   ]
  },
  {
   "cell_type": "code",
   "execution_count": 2,
   "metadata": {},
   "outputs": [
    {
     "name": "stdout",
     "output_type": "stream",
     "text": [
      "82800.0 0.0 32.24258580925573\n"
     ]
    }
   ],
   "source": [
    "#calculate the average trip speed, trip_distance / trip_length\n",
    "trip_speed = taxiarray[:,7]/taxiarray[:,8]*3600  # speed unit is miles/hour. Column/Column = 1D array, has no rows or columns\n",
    "speedmax = trip_speed.max()\n",
    "speedmin = trip_speed.min()\n",
    "avespeed = trip_speed.mean()\n",
    "print(speedmax,speedmin,avespeed)"
   ]
  },
  {
   "cell_type": "code",
   "execution_count": 3,
   "metadata": {},
   "outputs": [
    {
     "name": "stdout",
     "output_type": "stream",
     "text": [
      "[[ 2016.       1.       3.   ...    24.84     1.       0.  ]\n",
      " [ 2016.       1.      22.   ...    63.34     1.       0.  ]\n",
      " [ 2016.       1.      14.   ...    52.8      1.       0.  ]\n",
      " ...\n",
      " [ 2016.       3.      28.   ...     4.3      2.   32040.  ]\n",
      " [ 2016.       2.      13.   ...     3.3      2.   70560.  ]\n",
      " [ 2016.       1.      22.   ...     3.3      2.   82800.  ]]\n"
     ]
    }
   ],
   "source": [
    "# The max speed looks wrong. We will add the trip_speed to a new column to the array, then sort it and look at the rows with speed that are too high.\n",
    "\n",
    "trip_speed_2d = np.expand_dims(trip_speed, axis=1)             # np.expand_dims()    expand the 1D arrage into a column\n",
    "combined = np.concatenate([taxiarray,trip_speed_2d],axis = 1)  # np.concatenate([original,addon], axis=#)\n",
    "taxisorted = combined[np.argsort(combined[:,15])]              # np.argsort:  sortedarray = originalarray[np.argsort(originalarray[a row/a column])]\n",
    "print(taxisorted)\n",
    "\n",
    "#All of these rows have the same pickup_location_code and dropoff_location_code. This might suggest that the machines that record the data may use the last known GPS signal if they can't find the location, and if a driver starts and finishes a fare quickly, the machine will calculate an accurate time with inaccurate location data.\n"
   ]
  },
  {
   "cell_type": "code",
   "execution_count": 4,
   "metadata": {},
   "outputs": [
    {
     "name": "stdout",
     "output_type": "stream",
     "text": [
      "12.67 miles  2239.50 seconds  48.98 dollars\n"
     ]
    }
   ],
   "source": [
    "# remove the bad data: create a new ndarray that only contains the rows for which the values of trip_mph are less than 100\n",
    "\n",
    "cleaned_taxi = combined[combined[:,15]<100]\n",
    "mean_distance = cleaned_taxi[:,7].mean()\n",
    "mean_length = cleaned_taxi[:,8].mean()\n",
    "mean_total_amount = cleaned_taxi[:,13].mean()\n",
    "\n",
    "print('%.2f miles  %.2f seconds  %.2f dollars' %(mean_distance, mean_length, mean_total_amount))\n"
   ]
  },
  {
   "cell_type": "code",
   "execution_count": 5,
   "metadata": {},
   "outputs": [
    {
     "name": "stdout",
     "output_type": "stream",
     "text": [
      "{1: 13481, 2: 13333, 3: 15547, 4: 14810, 5: 16650, 6: 15739}\n"
     ]
    }
   ],
   "source": [
    "# Boolean Indexing with NumPy\n",
    "# How many pickups happened in each month?  The data set only has data of the first 6 months in 2016.\n",
    "\n",
    "def monthdict(array):                       # this fuction creates a dictionary that shows the picups number in each month \n",
    "    pickupdict = {}\n",
    "    pickupmonth = array[:,1]                # 1. select the column\n",
    "    for num in range(1,7):\n",
    "        monthbool = pickupmonth==num        # 2. make the boolean array: monthbool equals to all the rows with pickupmonth == num is True.\n",
    "        pickups = pickupmonth[monthbool]    # 3. use the new boolean array to filter the selected column. Note use [] not ().\n",
    "        pickupnum = pickups.shape[0]        # 4. ndarray.shape[0] returns the number of rows\n",
    "        pickupdict[num]= pickupnum\n",
    "    return pickupdict\n",
    "        \n",
    "print(monthdict(taxiarray))"
   ]
  },
  {
   "cell_type": "code",
   "execution_count": 6,
   "metadata": {},
   "outputs": [
    {
     "name": "stdout",
     "output_type": "stream",
     "text": [
      "[[    4.       2.      21.45  2004.      52.       0.8      0.      52.8\n",
      "    105.6 ]\n",
      " [    3.       4.       9.2   1041.      27.       1.3      5.54    60.\n",
      "     93.84]\n",
      " [    2.       0.      19.8   1671.      52.5      1.3      5.54    59.34\n",
      "    118.68]\n",
      " [    4.       2.      18.42  2968.      52.       0.8      5.54    80.\n",
      "    138.34]\n",
      " [    3.       6.       0.49   158.       3.5      1.8      0.      70.\n",
      "     75.3 ]\n",
      " [    2.       2.       2.7    381.       9.5      0.8      0.      60.\n",
      "     70.3 ]\n",
      " [    3.       4.       9.54  1210.      27.5      0.8      5.54    55.\n",
      "     88.84]\n",
      " [    2.       4.      17.6   3251.      52.       0.8      5.54    65.\n",
      "    123.34]\n",
      " [    4.       2.      38.2   9252.      52.       0.8      5.54    80.\n",
      "    138.34]\n",
      " [    4.       2.      18.    2276.       0.01     0.3      5.54    62.\n",
      "     67.85]\n",
      " [    2.       0.      26.21 17029.     180.5      0.8      5.54   100.\n",
      "    286.84]\n",
      " [    2.       2.       0.      24.       2.5      0.8      0.      58.\n",
      "     61.3 ]\n",
      " [    2.       1.      18.21  3160.      55.5      0.8      0.      62.\n",
      "    118.3 ]\n",
      " [    2.       2.       0.       3.       2.5      1.8      0.      75.7\n",
      "     80.  ]\n",
      " [    2.       4.      18.68  5247.      52.       0.8      5.54    60.\n",
      "    118.34]\n",
      " [    4.       2.      18.17  5860.      52.       0.8      5.54    70.\n",
      "    128.34]]\n"
     ]
    }
   ],
   "source": [
    "# the trips with over $50 tips?\n",
    "\n",
    "tip_amount = taxiarray[:,12]           # 1. select the tip column\n",
    "tip_bool = tip_amount>50               # 2. make the boolean array: all the rows that tip_amount > 50 is True\n",
    "top_tips = taxiarray[tip_bool,5:14]    # 3. slice taxiarray with the rows that meet tip_bool and columns index 5 to 13.\n",
    "\n",
    "print(top_tips)                        # there are 16 trips that have more then $50 tips."
   ]
  },
  {
   "cell_type": "code",
   "execution_count": 7,
   "metadata": {
    "scrolled": true
   },
   "outputs": [
    {
     "name": "stdout",
     "output_type": "stream",
     "text": [
      "11832 16602 63\n"
     ]
    }
   ],
   "source": [
    "# Which airport is the most popular destination in the data set?\n",
    "# the dropoff_location_code column is column index 6\n",
    "\n",
    "jfk = taxiarray[taxiarray[:,6]==2].shape[0]   # array[array[column==2]]  no need to add column infor, becasue only need to count the number of rows.\n",
    "lga = taxiarray[taxiarray[:,6]==3].shape[0]\n",
    "ewr = taxiarray[taxiarray[:,6]==5].shape[0]\n",
    "\n",
    "print(jfk,lga,ewr)       # LGA is the most popular airport for dropoffs"
   ]
  },
  {
   "cell_type": "code",
   "execution_count": null,
   "metadata": {},
   "outputs": [],
   "source": []
  }
 ],
 "metadata": {
  "kernelspec": {
   "display_name": "Python 3",
   "language": "python",
   "name": "python3"
  },
  "language_info": {
   "codemirror_mode": {
    "name": "ipython",
    "version": 3
   },
   "file_extension": ".py",
   "mimetype": "text/x-python",
   "name": "python",
   "nbconvert_exporter": "python",
   "pygments_lexer": "ipython3",
   "version": "3.6.4"
  }
 },
 "nbformat": 4,
 "nbformat_minor": 2
}
