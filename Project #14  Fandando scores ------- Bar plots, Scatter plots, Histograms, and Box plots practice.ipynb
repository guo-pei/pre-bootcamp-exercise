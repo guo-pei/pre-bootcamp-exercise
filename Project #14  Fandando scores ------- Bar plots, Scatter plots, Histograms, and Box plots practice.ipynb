{
 "cells": [
  {
   "cell_type": "markdown",
   "metadata": {},
   "source": [
    "-  `FILM` - film name\n",
    "-  `RT_user_norm` - average user rating from Rotten Tomatoes, normalized to a 1 to 5 point scale\n",
    "-  `Metacritic_user_nom` - average user rating from Metacritc, normalized to a 1 to 5 point scale\n",
    "-  `IMDB_norm` - average user rating from IMDB, normalized to a 1 to 5 point scale\n",
    "-  `Fandango_Ratingvalue` - average user rating from Fandango, normalized to a 1 to 5 point scale\n",
    "-  `Fandango_Stars` - the rating displayed on the Fandango website (rounded to nearest star, 1 to 5 point scale)\n",
    "\n",
    "The RT_user_norm, Metacritic_user_nom, IMDB_norm, and Fandango_Ratingvalue columns contain the average user rating for each movie, normalized to a 0 to 5 point scale. This allows us to compare how the users on each site rated a movie."
   ]
  },
  {
   "cell_type": "code",
   "execution_count": 3,
   "metadata": {},
   "outputs": [
    {
     "name": "stdout",
     "output_type": "stream",
     "text": [
      "FILM                    Avengers: Age of Ultron (2015)\n",
      "RT_user_norm                                       4.3\n",
      "Metacritic_user_nom                               3.55\n",
      "IMDB_norm                                          3.9\n",
      "Fandango_Ratingvalue                               4.5\n",
      "Fandango_Stars                                       5\n",
      "Name: 0, dtype: object\n"
     ]
    }
   ],
   "source": [
    "import pandas as pd\n",
    "reviews = pd.read_csv('fandango_scores.csv')\n",
    "\n",
    "norm_reviews = reviews[['FILM','RT_user_norm','Metacritic_user_nom','IMDB_norm','Fandango_Ratingvalue','Fandango_Stars']]\n",
    "print(norm_reviews.iloc[0])"
   ]
  },
  {
   "cell_type": "code",
   "execution_count": null,
   "metadata": {},
   "outputs": [],
   "source": []
  }
 ],
 "metadata": {
  "kernelspec": {
   "display_name": "Python 3",
   "language": "python",
   "name": "python3"
  },
  "language_info": {
   "codemirror_mode": {
    "name": "ipython",
    "version": 3
   },
   "file_extension": ".py",
   "mimetype": "text/x-python",
   "name": "python",
   "nbconvert_exporter": "python",
   "pygments_lexer": "ipython3",
   "version": "3.6.4"
  }
 },
 "nbformat": 4,
 "nbformat_minor": 2
}
